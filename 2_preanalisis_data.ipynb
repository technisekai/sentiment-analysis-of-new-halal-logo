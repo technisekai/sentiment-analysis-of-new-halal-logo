{
  "cells": [
    {
      "cell_type": "markdown",
      "metadata": {
        "id": "view-in-github",
        "colab_type": "text"
      },
      "source": [
        "<a href=\"https://colab.research.google.com/github/technisekai/sentiment-analysis-of-new-halal-logo/blob/main/2_preanalisis_data.ipynb\" target=\"_parent\"><img src=\"https://colab.research.google.com/assets/colab-badge.svg\" alt=\"Open In Colab\"/></a>"
      ]
    },
    {
      "cell_type": "markdown",
      "source": [
        "# **2. Preanalisis Data**\n",
        "\n",
        "Proses ini meliputi visualisasi data dalam bentuk grafik untuk mengetahui data lebih mendalam untuk menentukan kernel yang akan digunakan. Selanjutnya akan membahas [**pengolahan data**](https://colab.research.google.com/drive/1SDDYkFFTtH4LmJ4yzQ-N_zSzoG-JVgw3) meliputi: \n",
        "\n",
        "\n",
        "*   Data Cleansing\n",
        "*   Labeling Data\n",
        "*   Split Data \n",
        "*   TF-IDF\n",
        "*   Oversampling dan Undersampling\n",
        "*   Implementasi SVM dan Evaluasi\n",
        "\n",
        "\n",
        "Proses Sebelumnya : [**1. Pengumpulan Data**](https://colab.research.google.com/drive/16RWvGKvZBL8D2b3KKWW7y7nerkUBfZM2#scrollTo=Wm0ngXLVG-Mv)\n",
        "\n",
        "Proses Selanjutnya : [**3. Pengolahan Data**](https://colab.research.google.com/drive/1SDDYkFFTtH4LmJ4yzQ-N_zSzoG-JVgw3)\n"
      ],
      "metadata": {
        "id": "xv2YH3KdMt3_"
      }
    },
    {
      "cell_type": "markdown",
      "source": [
        "## 2.1 Install dan Impor Library"
      ],
      "metadata": {
        "id": "8YoLBSSrN6TD"
      }
    },
    {
      "cell_type": "code",
      "execution_count": null,
      "metadata": {
        "colab": {
          "base_uri": "https://localhost:8080/"
        },
        "id": "VpgU6_YYu8S9",
        "outputId": "42490e16-f351-4b0e-8dd3-d50b1a290d2c"
      },
      "outputs": [
        {
          "output_type": "stream",
          "name": "stdout",
          "text": [
            "Looking in indexes: https://pypi.org/simple, https://us-python.pkg.dev/colab-wheels/public/simple/\n",
            "Collecting Sastrawi\n",
            "  Downloading Sastrawi-1.0.1-py2.py3-none-any.whl (209 kB)\n",
            "\u001b[K     |████████████████████████████████| 209 kB 29.5 MB/s \n",
            "\u001b[?25hInstalling collected packages: Sastrawi\n",
            "Successfully installed Sastrawi-1.0.1\n"
          ]
        }
      ],
      "source": [
        "!pip install Sastrawi"
      ]
    },
    {
      "cell_type": "code",
      "execution_count": null,
      "metadata": {
        "colab": {
          "base_uri": "https://localhost:8080/"
        },
        "id": "AxiBZ8tTu3VC",
        "outputId": "5cc586b7-6554-4cc6-e2dc-9b009f6e49b5"
      },
      "outputs": [
        {
          "output_type": "stream",
          "name": "stdout",
          "text": [
            "/usr/local/lib/python3.7/dist-packages/gdown/cli.py:131: FutureWarning: Option `--id` was deprecated in version 4.3.1 and will be removed in 5.0. You don't need to pass it anymore to use a file ID.\n",
            "  category=FutureWarning,\n",
            "Downloading...\n",
            "From: https://drive.google.com/uc?id=19nlMainHfItPZ4_9K1yS3WZgk8nJW1p5\n",
            "To: /content/stopwordbahasa.csv\n",
            "100% 6.45k/6.45k [00:00<00:00, 10.6MB/s]\n",
            "/usr/local/lib/python3.7/dist-packages/gdown/cli.py:131: FutureWarning: Option `--id` was deprecated in version 4.3.1 and will be removed in 5.0. You don't need to pass it anymore to use a file ID.\n",
            "  category=FutureWarning,\n",
            "Downloading...\n",
            "From: https://drive.google.com/uc?id=1cINKFxiSycaOwVY5O5SPAxEwuhKRvqSz\n",
            "To: /content/new_kamusalay.csv\n",
            "100% 286k/286k [00:00<00:00, 103MB/s]\n"
          ]
        }
      ],
      "source": [
        "# download stopword file\n",
        "!gdown --id 19nlMainHfItPZ4_9K1yS3WZgk8nJW1p5\n",
        "# download file normalisasi kata\n",
        "!gdown --id 1cINKFxiSycaOwVY5O5SPAxEwuhKRvqSz"
      ]
    },
    {
      "cell_type": "code",
      "execution_count": null,
      "metadata": {
        "id": "N8QRyV0FqMs8"
      },
      "outputs": [],
      "source": [
        "import cv2\n",
        "import re\n",
        "import pandas as pd\n",
        "import imblearn\n",
        "import warnings\n",
        "from sklearn.metrics import classification_report\n",
        "from imblearn.over_sampling import SMOTE\n",
        "from imblearn.under_sampling import RandomUnderSampler\n",
        "from imblearn.pipeline import Pipeline\n",
        "from sklearn import metrics as m\n",
        "from wordcloud import WordCloud\n",
        "from Sastrawi.Stemmer.StemmerFactory import StemmerFactory\n",
        "from sklearn.model_selection import train_test_split\n",
        "from sklearn.metrics import confusion_matrix\n",
        "from google.colab.patches import cv2_imshow\n",
        "from sklearn.svm import SVC\n",
        "import matplotlib.pyplot as plt\n",
        "from collections import Counter\n",
        "\n",
        "warnings.filterwarnings('ignore')\n",
        "\n",
        "# preparing var to stemming\n",
        "factory = StemmerFactory()\n",
        "stemmer = factory.create_stemmer()\n",
        "\n",
        "# preparing normalize word\n",
        "alay_dict = pd.read_csv('new_kamusalay.csv', encoding='latin-1', header=None)\n",
        "alay_dict = alay_dict.rename(columns={0: 'original', \n",
        "                                      1: 'replacement'})\n",
        "alay_dict_map = dict(zip(alay_dict['original'], alay_dict['replacement']))\n",
        "# preparing remove stopword\n",
        "id_stopword_dict = pd.read_csv('stopwordbahasa.csv', header=None)\n",
        "id_stopword_dict = id_stopword_dict.rename(columns={0: 'stopword'})"
      ]
    },
    {
      "cell_type": "markdown",
      "source": [
        "## 2.2 Persiapan Dataset"
      ],
      "metadata": {
        "id": "luTV2idZPawm"
      }
    },
    {
      "cell_type": "code",
      "execution_count": null,
      "metadata": {
        "id": "wplPhVznYYw_"
      },
      "outputs": [],
      "source": [
        "# impor data yang sudah di labeli dan normalisasi kata\n",
        "df = pd.read_csv('/content/drive/MyDrive/Dataset/tugas-akhir/labeled/logo-halal-labeled-with-indonesia-sentiment.csv')"
      ]
    },
    {
      "cell_type": "code",
      "execution_count": null,
      "metadata": {
        "colab": {
          "base_uri": "https://localhost:8080/"
        },
        "id": "jjOCDXtnrUCc",
        "outputId": "e7bfc4b5-1b62-4b2e-80a4-f58575cff18d"
      },
      "outputs": [
        {
          "output_type": "execute_result",
          "data": {
            "text/plain": [
              "(1000, 9)"
            ]
          },
          "metadata": {},
          "execution_count": 5
        }
      ],
      "source": [
        "# jumlah data\n",
        "df.shape"
      ]
    },
    {
      "cell_type": "code",
      "execution_count": null,
      "metadata": {
        "id": "rmcK4-v2qVUL"
      },
      "outputs": [],
      "source": [
        "# mendefinisikan warna untuk grafik\n",
        "spring_pastels = [\"#fd7f6f\", \"#7eb0d5\", \"#b2e061\", \"#bd7ebe\", \"#ffb55a\", \"#ffee65\", \"#beb9db\", \"#fdcce5\", \"#8bd3c7\"]"
      ]
    },
    {
      "cell_type": "markdown",
      "source": [
        "## 2.3 Data Cleansing"
      ],
      "metadata": {
        "id": "8C1wur7DQy82"
      }
    },
    {
      "cell_type": "code",
      "execution_count": null,
      "metadata": {
        "id": "NBotvM15urbk"
      },
      "outputs": [],
      "source": [
        "import re\n",
        "\n",
        "# lowercase\n",
        "def lowercase(text):\n",
        "    return text.lower()\n",
        "\n",
        "# remove uncertain word in sentence\n",
        "def remove_unnecessary_char(text):\n",
        "    text = re.sub('\\n',' ',text) # Remove every '\\n'\n",
        "    #text = re.sub('rt',' ',text) # Remove every retweet symbol\n",
        "    text = re.sub('@[^\\s]+',' ',text) # Remove every username\n",
        "    text = re.sub('((www\\.[^\\s]+)|(https?://[^\\s]+)|(http?://[^\\s]+))',' ',text) # Remove every URL\n",
        "    text = re.sub('  +', ' ', text) # Remove extra spaces\n",
        "    return text\n",
        "\n",
        "# remove non-alphanumeruic   \n",
        "def remove_nonaplhanumeric(text):\n",
        "    text = re.sub('[^0-9a-zA-Z]+', ' ', text) \n",
        "    return text\n",
        "\n",
        "# stemming\n",
        "def stemming(text):\n",
        "    return stemmer.stem(text)\n",
        "\n",
        "# normalization\n",
        "def normalize_alay(text):\n",
        "    return ' '.join([alay_dict_map[word] if word in alay_dict_map else word for word in text.split(' ')])\n",
        "\n",
        "# remove stopword\n",
        "def remove_stopword(text):\n",
        "    text = ' '.join(['' if word in id_stopword_dict.stopword.values else word for word in text.split(' ')])\n",
        "    text = re.sub('  +', ' ', text) # Remove extra spaces\n",
        "    text = text.strip()\n",
        "    return text"
      ]
    },
    {
      "cell_type": "code",
      "execution_count": null,
      "metadata": {
        "id": "kIqTyQFQuyjZ"
      },
      "outputs": [],
      "source": [
        "# preprocessing using function defined above\n",
        "def preprocess(text):\n",
        "    text = lowercase(text) # 1\n",
        "    text = remove_unnecessary_char(text) # 2\n",
        "    text = remove_nonaplhanumeric(text) # 3\n",
        "    text = normalize_alay(text) # 4\n",
        "    text = remove_stopword(text) # 6\n",
        "    text = stemming(text) # 5\n",
        "    return text"
      ]
    },
    {
      "cell_type": "code",
      "execution_count": null,
      "metadata": {
        "id": "CdSLdSySvLiV"
      },
      "outputs": [],
      "source": [
        "df['clean_tweet'] = df['normalization_tweet'].apply(preprocess)"
      ]
    },
    {
      "cell_type": "markdown",
      "source": [
        "## 2.4 Visualisasi Data"
      ],
      "metadata": {
        "id": "dpsnsJvTQ5xF"
      }
    },
    {
      "cell_type": "code",
      "source": [
        "# plot jumlah label yang dihasilkan\n",
        "df['sentiment'].value_counts().plot(kind='bar', \n",
        "                                    color=spring_pastels, \n",
        "                                    title='Hasil Pelabelan Dengan Indonesian Sentiment', \n",
        "                                    xlabel='Label', \n",
        "                                    ylabel='Jumlah Data')\n",
        "\n",
        "# memberi detail jumlah data tiap label\n",
        "plt.xticks(rotation=30, horizontalalignment=\"center\")\n",
        "plt.text(-0.1, 622, 622, color='black', fontweight='bold')\n",
        "plt.text(0.9, 192, 192, color='black', fontweight='bold')\n",
        "plt.text(1.9, 186, 186, color='black', fontweight='bold')"
      ],
      "metadata": {
        "colab": {
          "base_uri": "https://localhost:8080/",
          "height": 333
        },
        "id": "rbHsHDqJG8q1",
        "outputId": "e7ca47fc-0007-42ec-f0a8-c0ecd66fbbe8"
      },
      "execution_count": null,
      "outputs": [
        {
          "output_type": "execute_result",
          "data": {
            "text/plain": [
              "Text(1.9, 186, '186')"
            ]
          },
          "metadata": {},
          "execution_count": 28
        },
        {
          "output_type": "display_data",
          "data": {
            "text/plain": [
              "<Figure size 432x288 with 1 Axes>"
            ],
            "image/png": "[encoded data removed]"
          },
          "metadata": {
            "needs_background": "light"
          }
        }
      ]
    },
    {
      "cell_type": "markdown",
      "source": [
        "### 2.4.1 Split dan Label Processing\n",
        "\n",
        "Dilakukan label processing yaitu mengubah label yang berupa positif, netral, negatif ke bentuk numeric. Selanjutnya dilakukan split data dan vektorisasi menggunakan tf-idf."
      ],
      "metadata": {
        "id": "kHe-Fb83RVp2"
      }
    },
    {
      "cell_type": "code",
      "execution_count": null,
      "metadata": {
        "id": "f2AAYouRvZ0o"
      },
      "outputs": [],
      "source": [
        "def labeling(label):\n",
        "  if label == 'positive':\n",
        "    return 1\n",
        "  elif label == 'negative':\n",
        "    return -1\n",
        "  else:\n",
        "    return 0"
      ]
    },
    {
      "cell_type": "code",
      "execution_count": null,
      "metadata": {
        "id": "rLU2UOHavlyx"
      },
      "outputs": [],
      "source": [
        "df['label'] = df['sentiment'].apply(labeling)"
      ]
    },
    {
      "cell_type": "code",
      "execution_count": null,
      "metadata": {
        "id": "5jY6g367vo7o"
      },
      "outputs": [],
      "source": [
        "X = df['clean_tweet'].values\n",
        "y = df['label'].values"
      ]
    },
    {
      "cell_type": "code",
      "execution_count": null,
      "metadata": {
        "id": "L1c_d6BnvuPg"
      },
      "outputs": [],
      "source": [
        "X_train, X_test, y_train, y_test = train_test_split(X, y, test_size=0.2)"
      ]
    },
    {
      "cell_type": "code",
      "execution_count": null,
      "metadata": {
        "colab": {
          "base_uri": "https://localhost:8080/"
        },
        "id": "kuXSyvqHwLvR",
        "outputId": "88fa9579-444d-4a2f-aa25-bd3f3d4625e8"
      },
      "outputs": [
        {
          "output_type": "execute_result",
          "data": {
            "text/plain": [
              "TfidfVectorizer()"
            ]
          },
          "metadata": {},
          "execution_count": 31
        }
      ],
      "source": [
        "from sklearn.feature_extraction.text import TfidfVectorizer\n",
        "\n",
        "tf_idf = TfidfVectorizer()\n",
        "tf_idf.fit(X_train)"
      ]
    },
    {
      "cell_type": "code",
      "execution_count": null,
      "metadata": {
        "id": "sfpW8u9uwPKd"
      },
      "outputs": [],
      "source": [
        "X_train = tf_idf.transform(X_train).toarray()\n",
        "X_test = tf_idf.transform(X_test).toarray()"
      ]
    },
    {
      "cell_type": "markdown",
      "source": [
        "### 2.4.2 Visualisasi Persebaran Data"
      ],
      "metadata": {
        "id": "m0HrgurpR4N9"
      }
    },
    {
      "cell_type": "code",
      "execution_count": null,
      "metadata": {
        "colab": {
          "base_uri": "https://localhost:8080/",
          "height": 295
        },
        "id": "mOfc_eAbwTQR",
        "outputId": "bc92b8a2-d323-4bd7-9211-2d41b1849b73"
      },
      "outputs": [
        {
          "output_type": "display_data",
          "data": {
            "text/plain": [
              "<Figure size 432x288 with 1 Axes>"
            ],
            "image/png": "[encoded data removed]"
          },
          "metadata": {
            "needs_background": "light"
          }
        }
      ],
      "source": [
        "from sklearn.decomposition import PCA\n",
        "\n",
        "# reduksi dimensi dengan pca\n",
        "pca = PCA()\n",
        "Xt = pca.fit_transform(X_train)\n",
        "\n",
        "# tampilkan grafik data dalam 2 dimensi\n",
        "plot = plt.scatter(Xt[:,0], Xt[:,1], c=y_train)\n",
        "\n",
        "# tampilkan\n",
        "plt.legend(handles=plot.legend_elements()[0], labels=('Negatif', 'Positif', 'Netral'), title='Label Data')\n",
        "# keterangan\n",
        "plt.title('Persebaran Data Tweet')\n",
        "plt.xlabel('Principal Component 1')\n",
        "plt.ylabel('Principal Component 2')\n",
        "plt.show()"
      ]
    }
  ],
  "metadata": {
    "colab": {
      "name": "2-preanalisis-data.ipynb",
      "provenance": [],
      "toc_visible": true,
      "mount_file_id": "14v2qJpYfPWSzGsG04yGmc2OwPfomRnbW",
      "authorship_tag": "ABX9TyN361THydcI34Zyk21Nh54a",
      "include_colab_link": true
    },
    "kernelspec": {
      "display_name": "Python 3",
      "name": "python3"
    },
    "language_info": {
      "name": "python"
    }
  },
  "nbformat": 4,
  "nbformat_minor": 0
}