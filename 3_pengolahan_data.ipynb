{
  "nbformat": 4,
  "nbformat_minor": 0,
  "metadata": {
    "colab": {
      "name": "3-pengolahan-data.ipynb",
      "provenance": [],
      "collapsed_sections": [
        "zRBQCV29OVwY",
        "wShcg5L1Ocem",
        "vNXqLgezOjah",
        "uDwhEGiK1XoF"
      ],
      "toc_visible": true,
      "mount_file_id": "1SDDYkFFTtH4LmJ4yzQ-N_zSzoG-JVgw3",
      "authorship_tag": "ABX9TyPQNTDXYmOqwYpymYTLzBN7",
      "include_colab_link": true
    },
    "kernelspec": {
      "name": "python3",
      "display_name": "Python 3"
    },
    "language_info": {
      "name": "python"
    }
  },
  "cells": [
    {
      "cell_type": "markdown",
      "metadata": {
        "id": "view-in-github",
        "colab_type": "text"
      },
      "source": [
        "<a href=\"https://colab.research.google.com/github/technisekai/sentiment-analysis-of-new-halal-logo/blob/main/3_pengolahan_data.ipynb\" target=\"_parent\"><img src=\"https://colab.research.google.com/assets/colab-badge.svg\" alt=\"Open In Colab\"/></a>"
      ]
    },
    {
      "cell_type": "markdown",
      "source": [
        "# **3. Pengolahan Data**\n",
        "\n",
        "Proses Sebelumnya : [**2. Pengolahan Data**](https://colab.research.google.com/drive/14v2qJpYfPWSzGsG04yGmc2OwPfomRnbW)"
      ],
      "metadata": {
        "id": "CkhAm0E1DOQD"
      }
    },
    {
      "cell_type": "markdown",
      "source": [
        "## 3.1 Install dan Impor Library"
      ],
      "metadata": {
        "id": "zRBQCV29OVwY"
      }
    },
    {
      "cell_type": "code",
      "source": [
        "# untuk menggunakan model indonesian sentiment\n",
        "!pip install transformers"
      ],
      "metadata": {
        "colab": {
          "base_uri": "https://localhost:8080/"
        },
        "id": "YuN7hBpj64ok",
        "outputId": "50051c30-a04e-414a-c77e-0516d7063737"
      },
      "execution_count": null,
      "outputs": [
        {
          "output_type": "stream",
          "name": "stdout",
          "text": [
            "Looking in indexes: https://pypi.org/simple, https://us-python.pkg.dev/colab-wheels/public/simple/\n",
            "Collecting transformers\n",
            "  Downloading transformers-4.19.2-py3-none-any.whl (4.2 MB)\n",
            "\u001b[K     |████████████████████████████████| 4.2 MB 4.3 MB/s \n",
            "\u001b[?25hRequirement already satisfied: numpy>=1.17 in /usr/local/lib/python3.7/dist-packages (from transformers) (1.21.6)\n",
            "Requirement already satisfied: importlib-metadata in /usr/local/lib/python3.7/dist-packages (from transformers) (4.11.4)\n",
            "Requirement already satisfied: requests in /usr/local/lib/python3.7/dist-packages (from transformers) (2.23.0)\n",
            "Collecting huggingface-hub<1.0,>=0.1.0\n",
            "  Downloading huggingface_hub-0.7.0-py3-none-any.whl (86 kB)\n",
            "\u001b[K     |████████████████████████████████| 86 kB 5.3 MB/s \n",
            "\u001b[?25hRequirement already satisfied: filelock in /usr/local/lib/python3.7/dist-packages (from transformers) (3.7.0)\n",
            "Requirement already satisfied: regex!=2019.12.17 in /usr/local/lib/python3.7/dist-packages (from transformers) (2019.12.20)\n",
            "Collecting tokenizers!=0.11.3,<0.13,>=0.11.1\n",
            "  Downloading tokenizers-0.12.1-cp37-cp37m-manylinux_2_12_x86_64.manylinux2010_x86_64.whl (6.6 MB)\n",
            "\u001b[K     |████████████████████████████████| 6.6 MB 29.3 MB/s \n",
            "\u001b[?25hRequirement already satisfied: tqdm>=4.27 in /usr/local/lib/python3.7/dist-packages (from transformers) (4.64.0)\n",
            "Requirement already satisfied: packaging>=20.0 in /usr/local/lib/python3.7/dist-packages (from transformers) (21.3)\n",
            "Collecting pyyaml>=5.1\n",
            "  Downloading PyYAML-6.0-cp37-cp37m-manylinux_2_5_x86_64.manylinux1_x86_64.manylinux_2_12_x86_64.manylinux2010_x86_64.whl (596 kB)\n",
            "\u001b[K     |████████████████████████████████| 596 kB 43.4 MB/s \n",
            "\u001b[?25hRequirement already satisfied: typing-extensions>=3.7.4.3 in /usr/local/lib/python3.7/dist-packages (from huggingface-hub<1.0,>=0.1.0->transformers) (4.2.0)\n",
            "Requirement already satisfied: pyparsing!=3.0.5,>=2.0.2 in /usr/local/lib/python3.7/dist-packages (from packaging>=20.0->transformers) (3.0.9)\n",
            "Requirement already satisfied: zipp>=0.5 in /usr/local/lib/python3.7/dist-packages (from importlib-metadata->transformers) (3.8.0)\n",
            "Requirement already satisfied: idna<3,>=2.5 in /usr/local/lib/python3.7/dist-packages (from requests->transformers) (2.10)\n",
            "Requirement already satisfied: chardet<4,>=3.0.2 in /usr/local/lib/python3.7/dist-packages (from requests->transformers) (3.0.4)\n",
            "Requirement already satisfied: certifi>=2017.4.17 in /usr/local/lib/python3.7/dist-packages (from requests->transformers) (2022.5.18.1)\n",
            "Requirement already satisfied: urllib3!=1.25.0,!=1.25.1,<1.26,>=1.21.1 in /usr/local/lib/python3.7/dist-packages (from requests->transformers) (1.24.3)\n",
            "Installing collected packages: pyyaml, tokenizers, huggingface-hub, transformers\n",
            "  Attempting uninstall: pyyaml\n",
            "    Found existing installation: PyYAML 3.13\n",
            "    Uninstalling PyYAML-3.13:\n",
            "      Successfully uninstalled PyYAML-3.13\n",
            "Successfully installed huggingface-hub-0.7.0 pyyaml-6.0 tokenizers-0.12.1 transformers-4.19.2\n"
          ]
        }
      ]
    },
    {
      "cell_type": "code",
      "source": [
        "# download stopword\n",
        "!gdown --id 19nlMainHfItPZ4_9K1yS3WZgk8nJW1p5\n",
        "# download normalisasi kata\n",
        "!gdown --id 1cINKFxiSycaOwVY5O5SPAxEwuhKRvqSz"
      ],
      "metadata": {
        "colab": {
          "base_uri": "https://localhost:8080/"
        },
        "id": "YAwYmGlAOCON",
        "outputId": "1fff0858-e4cf-4063-9261-770ecec74ad6"
      },
      "execution_count": null,
      "outputs": [
        {
          "output_type": "stream",
          "name": "stdout",
          "text": [
            "/usr/local/lib/python3.7/dist-packages/gdown/cli.py:131: FutureWarning: Option `--id` was deprecated in version 4.3.1 and will be removed in 5.0. You don't need to pass it anymore to use a file ID.\n",
            "  category=FutureWarning,\n",
            "Downloading...\n",
            "From: https://drive.google.com/uc?id=19nlMainHfItPZ4_9K1yS3WZgk8nJW1p5\n",
            "To: /content/stopwordbahasa.csv\n",
            "100% 6.45k/6.45k [00:00<00:00, 9.34MB/s]\n",
            "/usr/local/lib/python3.7/dist-packages/gdown/cli.py:131: FutureWarning: Option `--id` was deprecated in version 4.3.1 and will be removed in 5.0. You don't need to pass it anymore to use a file ID.\n",
            "  category=FutureWarning,\n",
            "Downloading...\n",
            "From: https://drive.google.com/uc?id=1cINKFxiSycaOwVY5O5SPAxEwuhKRvqSz\n",
            "To: /content/new_kamusalay.csv\n",
            "100% 286k/286k [00:00<00:00, 71.3MB/s]\n"
          ]
        }
      ]
    },
    {
      "cell_type": "code",
      "source": [
        "!pip install Sastrawi"
      ],
      "metadata": {
        "colab": {
          "base_uri": "https://localhost:8080/"
        },
        "id": "Td9ApwXROT0d",
        "outputId": "2c4a5a37-90d5-4446-8a1b-72c331775d4b"
      },
      "execution_count": null,
      "outputs": [
        {
          "output_type": "stream",
          "name": "stdout",
          "text": [
            "Looking in indexes: https://pypi.org/simple, https://us-python.pkg.dev/colab-wheels/public/simple/\n",
            "Collecting Sastrawi\n",
            "  Downloading Sastrawi-1.0.1-py2.py3-none-any.whl (209 kB)\n",
            "\u001b[K     |████████████████████████████████| 209 kB 4.3 MB/s \n",
            "\u001b[?25hInstalling collected packages: Sastrawi\n",
            "Successfully installed Sastrawi-1.0.1\n"
          ]
        }
      ]
    },
    {
      "cell_type": "code",
      "execution_count": null,
      "metadata": {
        "id": "ANobJ4z8HEIT"
      },
      "outputs": [],
      "source": [
        "import cv2\n",
        "import re\n",
        "import pandas as pd\n",
        "import imblearn\n",
        "import warnings\n",
        "from sklearn.metrics import classification_report\n",
        "from imblearn.over_sampling import SMOTE\n",
        "from imblearn.under_sampling import RandomUnderSampler\n",
        "from imblearn.pipeline import Pipeline\n",
        "from sklearn import metrics as m\n",
        "from wordcloud import WordCloud\n",
        "from Sastrawi.Stemmer.StemmerFactory import StemmerFactory\n",
        "from sklearn.model_selection import train_test_split\n",
        "from sklearn.metrics import confusion_matrix\n",
        "from google.colab.patches import cv2_imshow\n",
        "from sklearn.svm import SVC\n",
        "import matplotlib.pyplot as plt\n",
        "from collections import Counter\n",
        "\n",
        "warnings.filterwarnings('ignore')\n",
        "\n",
        "# preparing var to stemming\n",
        "factory = StemmerFactory()\n",
        "stemmer = factory.create_stemmer()\n",
        "\n",
        "# preparing normalize word\n",
        "alay_dict = pd.read_csv('new_kamusalay.csv', encoding='latin-1', header=None)\n",
        "alay_dict = alay_dict.rename(columns={0: 'original', \n",
        "                                      1: 'replacement'})\n",
        "alay_dict_map = dict(zip(alay_dict['original'], alay_dict['replacement']))\n",
        "# preparing remove stopword\n",
        "id_stopword_dict = pd.read_csv('stopwordbahasa.csv', header=None)\n",
        "id_stopword_dict = id_stopword_dict.rename(columns={0: 'stopword'})"
      ]
    },
    {
      "cell_type": "markdown",
      "source": [
        "## 3.2 Data Cleansing\n",
        "\n",
        "meliputi proses mengubah huruf \n",
        "\n",
        "*   mengubah huruf kapital menjadi huruf kecil.\n",
        "*   menghilangkan kata tidak penting seperti \\n, simbol retweet, username, url, dan spasi ekstra.\n",
        "*   Normalisasi kata\n",
        "*   Stemming"
      ],
      "metadata": {
        "id": "vNXqLgezOjah"
      }
    },
    {
      "cell_type": "code",
      "source": [
        "# impor dataset\n",
        "df = pd.read_csv('/content/drive/MyDrive/Dataset/tugas-akhir/labeled/logo-halal-labeled-with-indonesia-sentiment.csv')"
      ],
      "metadata": {
        "id": "nOWk_kU242cT"
      },
      "execution_count": null,
      "outputs": []
    },
    {
      "cell_type": "code",
      "source": [
        "import re\n",
        "\n",
        "# lowercase\n",
        "def lowercase(text):\n",
        "    return text.lower()\n",
        "\n",
        "# remove uncertain word in sentence\n",
        "def remove_unnecessary_char(text):\n",
        "    text = re.sub('\\n',' ',text) # Remove every '\\n'\n",
        "    #text = re.sub('rt',' ',text) # Remove every retweet symbol\n",
        "    text = re.sub('@[^\\s]+',' ',text) # Remove every username\n",
        "    text = re.sub('((www\\.[^\\s]+)|(https?://[^\\s]+)|(http?://[^\\s]+))',' ',text) # Remove every URL\n",
        "    text = re.sub('  +', ' ', text) # Remove extra spaces\n",
        "    return text\n",
        "\n",
        "# remove non-alphanumeruic   \n",
        "def remove_nonaplhanumeric(text):\n",
        "    text = re.sub('[^0-9a-zA-Z]+', ' ', text) \n",
        "    return text\n",
        "\n",
        "# stemming\n",
        "def stemming(text):\n",
        "    return stemmer.stem(text)\n",
        "\n",
        "# normalization\n",
        "def normalize_alay(text):\n",
        "    return ' '.join([alay_dict_map[word] if word in alay_dict_map else word for word in text.split(' ')])\n",
        "\n",
        "# remove stopword\n",
        "def remove_stopword(text):\n",
        "    text = ' '.join(['' if word in id_stopword_dict.stopword.values else word for word in text.split(' ')])\n",
        "    text = re.sub('  +', ' ', text) # Remove extra spaces\n",
        "    text = text.strip()\n",
        "    return text\n",
        "\n",
        "# preprocessing using function defined above\n",
        "def preprocess(text):\n",
        "    text = lowercase(text) # 1\n",
        "    text = remove_unnecessary_char(text) # 2\n",
        "    text = remove_nonaplhanumeric(text) # 3\n",
        "    text = normalize_alay(text) # 4\n",
        "    text = remove_stopword(text) # 6\n",
        "    text = stemming(text) # 5\n",
        "    return text"
      ],
      "metadata": {
        "id": "1J1NgMQmMd_B"
      },
      "execution_count": null,
      "outputs": []
    },
    {
      "cell_type": "code",
      "source": [
        "# memanggil fungsi prepoecess untuk cleansing kolom normalization_tweet\n",
        "df['clean_tweet'] = df['normalization_tweet'].apply(preprocess)"
      ],
      "metadata": {
        "id": "3R61OHWUMnr6"
      },
      "execution_count": null,
      "outputs": []
    },
    {
      "cell_type": "code",
      "source": [
        "# menampilkan data\n",
        "df[['normalization_tweet', 'clean_tweet']].head()"
      ],
      "metadata": {
        "colab": {
          "base_uri": "https://localhost:8080/"
        },
        "id": "wzpwaXWK5rAt",
        "outputId": "c0176b80-f48c-4a85-bf77-1cd9663d13c0"
      },
      "execution_count": null,
      "outputs": [
        {
          "output_type": "execute_result",
          "data": {
            "text/plain": [
              "                                 normalization_tweet  \\\n",
              "0  eh… saya bukan muslim tapi saya hanya ingin me...   \n",
              "1  intinya bukan labelnya yang budaya bang, tetap...   \n",
              "2  ayo jangan terkecoh sama isu adzan, logo halal...   \n",
              "3  dengan terbitnya logo baru, menteri agama yaqu...   \n",
              "4      logo halal islam nusantara...alias liberal...   \n",
              "\n",
              "                                         clean_tweet  \n",
              "0                    eh muslim dapat suka logo halal  \n",
              "1  inti label budaya bang bentuk logo sih selera ...  \n",
              "2  ayo kecoh isu azan logo halal kemah titik 0 be...  \n",
              "3  terbit logo menteri agama yaqut cholil qoumas ...  \n",
              "4           logo halal islam nusantara alias liberal  "
            ],
            "text/html": [
              "\n",
              "  <div id=\"df-9e775bdb-c577-4f2a-a5e3-5172f9b46e60\">\n",
              "    <div class=\"colab-df-container\">\n",
              "      <div>\n",
              "<style scoped>\n",
              "    .dataframe tbody tr th:only-of-type {\n",
              "        vertical-align: middle;\n",
              "    }\n",
              "\n",
              "    .dataframe tbody tr th {\n",
              "        vertical-align: top;\n",
              "    }\n",
              "\n",
              "    .dataframe thead th {\n",
              "        text-align: right;\n",
              "    }\n",
              "</style>\n",
              "<table border=\"1\" class=\"dataframe\">\n",
              "  <thead>\n",
              "    <tr style=\"text-align: right;\">\n",
              "      <th></th>\n",
              "      <th>normalization_tweet</th>\n",
              "      <th>clean_tweet</th>\n",
              "    </tr>\n",
              "  </thead>\n",
              "  <tbody>\n",
              "    <tr>\n",
              "      <th>0</th>\n",
              "      <td>eh… saya bukan muslim tapi saya hanya ingin me...</td>\n",
              "      <td>eh muslim dapat suka logo halal</td>\n",
              "    </tr>\n",
              "    <tr>\n",
              "      <th>1</th>\n",
              "      <td>intinya bukan labelnya yang budaya bang, tetap...</td>\n",
              "      <td>inti label budaya bang bentuk logo sih selera ...</td>\n",
              "    </tr>\n",
              "    <tr>\n",
              "      <th>2</th>\n",
              "      <td>ayo jangan terkecoh sama isu adzan, logo halal...</td>\n",
              "      <td>ayo kecoh isu azan logo halal kemah titik 0 be...</td>\n",
              "    </tr>\n",
              "    <tr>\n",
              "      <th>3</th>\n",
              "      <td>dengan terbitnya logo baru, menteri agama yaqu...</td>\n",
              "      <td>terbit logo menteri agama yaqut cholil qoumas ...</td>\n",
              "    </tr>\n",
              "    <tr>\n",
              "      <th>4</th>\n",
              "      <td>logo halal islam nusantara...alias liberal...</td>\n",
              "      <td>logo halal islam nusantara alias liberal</td>\n",
              "    </tr>\n",
              "  </tbody>\n",
              "</table>\n",
              "</div>\n",
              "      <button class=\"colab-df-convert\" onclick=\"convertToInteractive('df-9e775bdb-c577-4f2a-a5e3-5172f9b46e60')\"\n",
              "              title=\"Convert this dataframe to an interactive table.\"\n",
              "              style=\"display:none;\">\n",
              "        \n",
              "  <svg xmlns=\"http://www.w3.org/2000/svg\" height=\"24px\"viewBox=\"0 0 24 24\"\n",
              "       width=\"24px\">\n",
              "    <path d=\"M0 0h24v24H0V0z\" fill=\"none\"/>\n",
              "    <path d=\"M18.56 5.44l.94 2.06.94-2.06 2.06-.94-2.06-.94-.94-2.06-.94 2.06-2.06.94zm-11 1L8.5 8.5l.94-2.06 2.06-.94-2.06-.94L8.5 2.5l-.94 2.06-2.06.94zm10 10l.94 2.06.94-2.06 2.06-.94-2.06-.94-.94-2.06-.94 2.06-2.06.94z\"/><path d=\"M17.41 7.96l-1.37-1.37c-.4-.4-.92-.59-1.43-.59-.52 0-1.04.2-1.43.59L10.3 9.45l-7.72 7.72c-.78.78-.78 2.05 0 2.83L4 21.41c.39.39.9.59 1.41.59.51 0 1.02-.2 1.41-.59l7.78-7.78 2.81-2.81c.8-.78.8-2.07 0-2.86zM5.41 20L4 18.59l7.72-7.72 1.47 1.35L5.41 20z\"/>\n",
              "  </svg>\n",
              "      </button>\n",
              "      \n",
              "  <style>\n",
              "    .colab-df-container {\n",
              "      display:flex;\n",
              "      flex-wrap:wrap;\n",
              "      gap: 12px;\n",
              "    }\n",
              "\n",
              "    .colab-df-convert {\n",
              "      background-color: #E8F0FE;\n",
              "      border: none;\n",
              "      border-radius: 50%;\n",
              "      cursor: pointer;\n",
              "      display: none;\n",
              "      fill: #1967D2;\n",
              "      height: 32px;\n",
              "      padding: 0 0 0 0;\n",
              "      width: 32px;\n",
              "    }\n",
              "\n",
              "    .colab-df-convert:hover {\n",
              "      background-color: #E2EBFA;\n",
              "      box-shadow: 0px 1px 2px rgba(60, 64, 67, 0.3), 0px 1px 3px 1px rgba(60, 64, 67, 0.15);\n",
              "      fill: #174EA6;\n",
              "    }\n",
              "\n",
              "    [theme=dark] .colab-df-convert {\n",
              "      background-color: #3B4455;\n",
              "      fill: #D2E3FC;\n",
              "    }\n",
              "\n",
              "    [theme=dark] .colab-df-convert:hover {\n",
              "      background-color: #434B5C;\n",
              "      box-shadow: 0px 1px 3px 1px rgba(0, 0, 0, 0.15);\n",
              "      filter: drop-shadow(0px 1px 2px rgba(0, 0, 0, 0.3));\n",
              "      fill: #FFFFFF;\n",
              "    }\n",
              "  </style>\n",
              "\n",
              "      <script>\n",
              "        const buttonEl =\n",
              "          document.querySelector('#df-9e775bdb-c577-4f2a-a5e3-5172f9b46e60 button.colab-df-convert');\n",
              "        buttonEl.style.display =\n",
              "          google.colab.kernel.accessAllowed ? 'block' : 'none';\n",
              "\n",
              "        async function convertToInteractive(key) {\n",
              "          const element = document.querySelector('#df-9e775bdb-c577-4f2a-a5e3-5172f9b46e60');\n",
              "          const dataTable =\n",
              "            await google.colab.kernel.invokeFunction('convertToInteractive',\n",
              "                                                     [key], {});\n",
              "          if (!dataTable) return;\n",
              "\n",
              "          const docLinkHtml = 'Like what you see? Visit the ' +\n",
              "            '<a target=\"_blank\" href=https://colab.research.google.com/notebooks/data_table.ipynb>data table notebook</a>'\n",
              "            + ' to learn more about interactive tables.';\n",
              "          element.innerHTML = '';\n",
              "          dataTable['output_type'] = 'display_data';\n",
              "          await google.colab.output.renderOutput(dataTable, element);\n",
              "          const docLink = document.createElement('div');\n",
              "          docLink.innerHTML = docLinkHtml;\n",
              "          element.appendChild(docLink);\n",
              "        }\n",
              "      </script>\n",
              "    </div>\n",
              "  </div>\n",
              "  "
            ]
          },
          "metadata": {},
          "execution_count": 11
        }
      ]
    },
    {
      "cell_type": "markdown",
      "source": [
        "## 3.3 Data Labeling"
      ],
      "metadata": {
        "id": "eHZ9U-npr60h"
      }
    },
    {
      "cell_type": "code",
      "source": [
        "!git lfs install\n",
        "!git clone https://huggingface.co/sahri/indonesiasentiment\n",
        "!pip install transformers"
      ],
      "metadata": {
        "colab": {
          "base_uri": "https://localhost:8080/"
        },
        "id": "ju8YSSPSog18",
        "outputId": "98a6bece-8fc8-4391-b4ad-b15fd7ca1b77"
      },
      "execution_count": null,
      "outputs": [
        {
          "output_type": "stream",
          "name": "stdout",
          "text": [
            "Error: Failed to call git rev-parse --git-dir --show-toplevel: \"fatal: not a git repository (or any of the parent directories): .git\\n\"\n",
            "Git LFS initialized.\n",
            "Cloning into 'indonesiasentiment'...\n",
            "remote: Enumerating objects: 48, done.\u001b[K\n",
            "remote: Counting objects: 100% (48/48), done.\u001b[K\n",
            "remote: Compressing objects: 100% (47/47), done.\u001b[K\n",
            "remote: Total 48 (delta 20), reused 0 (delta 0), pack-reused 0\n",
            "Unpacking objects: 100% (48/48), done.\n",
            "Filtering content: 100% (2/2), 951.34 MiB | 29.24 MiB/s, done.\n",
            "Looking in indexes: https://pypi.org/simple, https://us-python.pkg.dev/colab-wheels/public/simple/\n",
            "Requirement already satisfied: transformers in /usr/local/lib/python3.7/dist-packages (4.19.2)\n",
            "Requirement already satisfied: requests in /usr/local/lib/python3.7/dist-packages (from transformers) (2.23.0)\n",
            "Requirement already satisfied: filelock in /usr/local/lib/python3.7/dist-packages (from transformers) (3.7.0)\n",
            "Requirement already satisfied: regex!=2019.12.17 in /usr/local/lib/python3.7/dist-packages (from transformers) (2019.12.20)\n",
            "Requirement already satisfied: pyyaml>=5.1 in /usr/local/lib/python3.7/dist-packages (from transformers) (6.0)\n",
            "Requirement already satisfied: huggingface-hub<1.0,>=0.1.0 in /usr/local/lib/python3.7/dist-packages (from transformers) (0.7.0)\n",
            "Requirement already satisfied: packaging>=20.0 in /usr/local/lib/python3.7/dist-packages (from transformers) (21.3)\n",
            "Requirement already satisfied: numpy>=1.17 in /usr/local/lib/python3.7/dist-packages (from transformers) (1.21.6)\n",
            "Requirement already satisfied: importlib-metadata in /usr/local/lib/python3.7/dist-packages (from transformers) (4.11.3)\n",
            "Requirement already satisfied: tqdm>=4.27 in /usr/local/lib/python3.7/dist-packages (from transformers) (4.64.0)\n",
            "Requirement already satisfied: tokenizers!=0.11.3,<0.13,>=0.11.1 in /usr/local/lib/python3.7/dist-packages (from transformers) (0.12.1)\n",
            "Requirement already satisfied: typing-extensions>=3.7.4.3 in /usr/local/lib/python3.7/dist-packages (from huggingface-hub<1.0,>=0.1.0->transformers) (4.2.0)\n",
            "Requirement already satisfied: pyparsing!=3.0.5,>=2.0.2 in /usr/local/lib/python3.7/dist-packages (from packaging>=20.0->transformers) (3.0.9)\n",
            "Requirement already satisfied: zipp>=0.5 in /usr/local/lib/python3.7/dist-packages (from importlib-metadata->transformers) (3.8.0)\n",
            "Requirement already satisfied: chardet<4,>=3.0.2 in /usr/local/lib/python3.7/dist-packages (from requests->transformers) (3.0.4)\n",
            "Requirement already satisfied: idna<3,>=2.5 in /usr/local/lib/python3.7/dist-packages (from requests->transformers) (2.10)\n",
            "Requirement already satisfied: certifi>=2017.4.17 in /usr/local/lib/python3.7/dist-packages (from requests->transformers) (2022.5.18.1)\n",
            "Requirement already satisfied: urllib3!=1.25.0,!=1.25.1,<1.26,>=1.21.1 in /usr/local/lib/python3.7/dist-packages (from requests->transformers) (1.24.3)\n"
          ]
        }
      ]
    },
    {
      "cell_type": "code",
      "source": [
        "from transformers import pipeline\n",
        "\n",
        "pretrained_name = \"/content/indonesiasentiment\"\n",
        "\n",
        "nlp = pipeline(\n",
        "    \"sentiment-analysis\",\n",
        "    model=pretrained_name,\n",
        "    tokenizer=pretrained_name\n",
        ")\n"
      ],
      "metadata": {
        "id": "5PD_ZUOBoAjM"
      },
      "execution_count": null,
      "outputs": []
    },
    {
      "cell_type": "code",
      "source": [
        "# definisi fungsi untuk labeling\n",
        "def labeling(text):\n",
        "  x = nlp(text)\n",
        "  return x[0]['label']"
      ],
      "metadata": {
        "id": "4R_8wWUfpawV"
      },
      "execution_count": null,
      "outputs": []
    },
    {
      "cell_type": "code",
      "source": [
        "# panggil fungsi labeling dan buat kolom baru\n",
        "df['sentiment'] = df['normalization_tweet'].apply(labeling)"
      ],
      "metadata": {
        "id": "NOluHWGhqLEh"
      },
      "execution_count": null,
      "outputs": []
    },
    {
      "cell_type": "markdown",
      "source": [
        "## 3.4 Split Data 80:20\n",
        "\n",
        "Memisah data latih dan uji dengan proporsi 80:20."
      ],
      "metadata": {
        "id": "uDwhEGiK1XoF"
      }
    },
    {
      "cell_type": "code",
      "source": [
        "# ubah label menjadi numeric\n",
        "def label_to_num(label):\n",
        "  if label == 'positive':\n",
        "    return 1\n",
        "  elif label == 'negative':\n",
        "    return -1\n",
        "  else:\n",
        "    return 0"
      ],
      "metadata": {
        "id": "9KrDi47qdE_X"
      },
      "execution_count": null,
      "outputs": []
    },
    {
      "cell_type": "code",
      "source": [
        "# memanggil fungsi label_to_num\n",
        "df['label'] = df['sentiment'].apply(label_to_num)"
      ],
      "metadata": {
        "id": "yjs1cEZGesDu"
      },
      "execution_count": null,
      "outputs": []
    },
    {
      "cell_type": "code",
      "source": [
        "# definisi atribut dan label\n",
        "X = df['clean_tweet'].values\n",
        "y = df['label'].values"
      ],
      "metadata": {
        "id": "jNd5wy9dxAgS"
      },
      "execution_count": null,
      "outputs": []
    },
    {
      "cell_type": "code",
      "source": [
        "# split data \n",
        "X_train, X_test, y_train, y_test = train_test_split(X, y, test_size=0.2)"
      ],
      "metadata": {
        "id": "ffpDECyVmTbl"
      },
      "execution_count": null,
      "outputs": []
    },
    {
      "cell_type": "code",
      "source": [
        "# tampilkan jumlah data\n",
        "print(\"Jumlah data latih : \", len(X_train))\n",
        "print(\"Jumlah data Uji : \", len(X_test))"
      ],
      "metadata": {
        "colab": {
          "base_uri": "https://localhost:8080/"
        },
        "id": "c6yGF9sL1jS6",
        "outputId": "218cad8c-d83f-444c-b41f-769684644c0a"
      },
      "execution_count": null,
      "outputs": [
        {
          "output_type": "stream",
          "name": "stdout",
          "text": [
            "Jumlah data latih :  800\n",
            "Jumlah data Uji :  200\n"
          ]
        }
      ]
    },
    {
      "cell_type": "markdown",
      "source": [
        "## 3.5 TF-IDF\n",
        "\n",
        "Mengubah kalimat menjadi vector angka numerik."
      ],
      "metadata": {
        "id": "LakD7jst1Iki"
      }
    },
    {
      "cell_type": "code",
      "source": [
        "from sklearn.feature_extraction.text import TfidfVectorizer\n",
        "\n",
        "# ubah teks ke vektor berdasar data train\n",
        "tf_idf = TfidfVectorizer()\n",
        "tf_idf.fit(X_train)"
      ],
      "metadata": {
        "colab": {
          "base_uri": "https://localhost:8080/"
        },
        "id": "8Tcu1WR5lmJs",
        "outputId": "aaea635c-542f-4ec1-ffbf-a90ada58ca9b"
      },
      "execution_count": null,
      "outputs": [
        {
          "output_type": "execute_result",
          "data": {
            "text/plain": [
              "TfidfVectorizer()"
            ]
          },
          "metadata": {},
          "execution_count": 126
        }
      ]
    },
    {
      "cell_type": "code",
      "source": [
        "# ubah teks ke vektor\n",
        "X_train = tf_idf.transform(X_train).toarray()\n",
        "X_test = tf_idf.transform(X_test).toarray()"
      ],
      "metadata": {
        "id": "MfH_lD2AmFK9"
      },
      "execution_count": null,
      "outputs": []
    },
    {
      "cell_type": "markdown",
      "source": [
        "## 3.6 Over and Under Sampling\n",
        "\n",
        "Menyamakan proporsi data antara sentimen positif dan negatif."
      ],
      "metadata": {
        "id": "1DBcXUspxBUH"
      }
    },
    {
      "cell_type": "code",
      "source": [
        "def show_info_label(x):\n",
        "  return Counter(x)"
      ],
      "metadata": {
        "id": "OX5TFYhpkghk"
      },
      "execution_count": null,
      "outputs": []
    },
    {
      "cell_type": "code",
      "source": [
        "# oversampling\n",
        "oversample = SMOTE()\n",
        "X_train_over, y_train_over = oversample.fit_resample(X_train, y_train)\n",
        "# info label\n",
        "show_info_label(y_train_over)"
      ],
      "metadata": {
        "id": "rrVJIwmD2w2r",
        "colab": {
          "base_uri": "https://localhost:8080/"
        },
        "outputId": "6da30744-5a59-4d58-cc04-7f13f32e4aa9"
      },
      "execution_count": null,
      "outputs": [
        {
          "output_type": "execute_result",
          "data": {
            "text/plain": [
              "Counter({-1: 500, 0: 500, 1: 500})"
            ]
          },
          "metadata": {},
          "execution_count": 69
        }
      ]
    },
    {
      "cell_type": "code",
      "source": [
        "# undersampling\n",
        "undersample = RandomUnderSampler()\n",
        "X_train_under, y_train_under = undersample.fit_resample(X_train, y_train)\n",
        "# info label\n",
        "show_info_label(y_train_under)"
      ],
      "metadata": {
        "id": "Em_D_sjV3OFU",
        "colab": {
          "base_uri": "https://localhost:8080/"
        },
        "outputId": "91f92e7d-5df4-4c1f-e986-cd34f2a7f544"
      },
      "execution_count": null,
      "outputs": [
        {
          "output_type": "execute_result",
          "data": {
            "text/plain": [
              "Counter({-1: 144, 0: 144, 1: 144})"
            ]
          },
          "metadata": {},
          "execution_count": 70
        }
      ]
    },
    {
      "cell_type": "code",
      "source": [
        "data = {\n",
        "    'original': (X_train, y_train),\n",
        "    'oversampling': (X_train_over, y_train_over),\n",
        "    'undersampling': (X_train_under, y_train_under)\n",
        "    }"
      ],
      "metadata": {
        "id": "1ZCAb1UJ8VOk"
      },
      "execution_count": null,
      "outputs": []
    },
    {
      "cell_type": "code",
      "source": [
        "print(\"original data : \", len(data['original'][0]))\n",
        "print(\"oversampling data : \", len(data['oversampling'][0]))\n",
        "print(\"undersampling data : \", len(data['undersampling'][0]))"
      ],
      "metadata": {
        "id": "udx-NPLnFobz",
        "colab": {
          "base_uri": "https://localhost:8080/"
        },
        "outputId": "c78346fd-e71d-41e4-c942-ce15563b3eb2"
      },
      "execution_count": null,
      "outputs": [
        {
          "output_type": "stream",
          "name": "stdout",
          "text": [
            "original data :  800\n",
            "oversampling data :  1470\n",
            "undersampling data :  444\n"
          ]
        }
      ]
    },
    {
      "cell_type": "markdown",
      "source": [
        "## 3.7 Implementasi SVM dan Evaluasi"
      ],
      "metadata": {
        "id": "6OMx3calk5a9"
      }
    },
    {
      "cell_type": "markdown",
      "source": [
        "### 3.7.1 Implementasi SVM dengan Kernel RBF"
      ],
      "metadata": {
        "id": "gARcShz4HJ-N"
      }
    },
    {
      "cell_type": "code",
      "source": [
        "# nilai pada setiap parameter pada kernel rbf yang akan digunakan\n",
        "param = {\n",
        "    'kernel': ['rbf'],\n",
        "    'C': [0.5, 1, 10, 100],\n",
        "    'gamma': ['scale', 1, 0.1, 0.01, 0.001]\n",
        "}"
      ],
      "metadata": {
        "id": "DIL-HORSF4yv"
      },
      "execution_count": null,
      "outputs": []
    },
    {
      "cell_type": "code",
      "source": [
        "from sklearn.model_selection import GridSearchCV\n",
        "\n",
        "# mencari parameter terbaik dengan grisearch\n",
        "grid_search = GridSearchCV(estimator=SVC(random_state=0),\n",
        "                           param_grid=param,\n",
        "                           n_jobs=8,\n",
        "                           verbose=1,\n",
        "                           scoring='accuracy')"
      ],
      "metadata": {
        "id": "CvltaUvQHACN"
      },
      "execution_count": null,
      "outputs": []
    },
    {
      "cell_type": "markdown",
      "source": [
        "### 3.7.2 Evaluasi pada Data Asli"
      ],
      "metadata": {
        "id": "GZF1dnyuHSBL"
      }
    },
    {
      "cell_type": "code",
      "source": [
        "# menggunakan data asli\n",
        "grid_search.fit(X_train, y_train)"
      ],
      "metadata": {
        "colab": {
          "base_uri": "https://localhost:8080/"
        },
        "id": "mc9tK01JHa-0",
        "outputId": "34cc59eb-2538-4db3-f98a-9bbf11fbe2a7"
      },
      "execution_count": null,
      "outputs": [
        {
          "output_type": "stream",
          "name": "stdout",
          "text": [
            "Fitting 5 folds for each of 20 candidates, totalling 100 fits\n"
          ]
        },
        {
          "output_type": "execute_result",
          "data": {
            "text/plain": [
              "GridSearchCV(estimator=SVC(random_state=0), n_jobs=8,\n",
              "             param_grid={'C': [0.5, 1, 10, 100],\n",
              "                         'gamma': ['scale', 1, 0.1, 0.01, 0.001],\n",
              "                         'kernel': ['rbf']},\n",
              "             scoring='accuracy', verbose=1)"
            ]
          },
          "metadata": {},
          "execution_count": 50
        }
      ]
    },
    {
      "cell_type": "code",
      "source": [
        "# akurasi tertinggi yang didapat\n",
        "grid_search.best_score_"
      ],
      "metadata": {
        "colab": {
          "base_uri": "https://localhost:8080/"
        },
        "id": "fcWlQVm2IKNX",
        "outputId": "cac272ad-7086-4420-a1bd-09fb7053e668"
      },
      "execution_count": null,
      "outputs": [
        {
          "output_type": "execute_result",
          "data": {
            "text/plain": [
              "0.6425000000000001"
            ]
          },
          "metadata": {},
          "execution_count": 51
        }
      ]
    },
    {
      "cell_type": "code",
      "source": [
        "# parameter terbaik pada data asli\n",
        "grid_search.best_estimator_.get_params()"
      ],
      "metadata": {
        "colab": {
          "base_uri": "https://localhost:8080/"
        },
        "id": "SSh9NEJuljlF",
        "outputId": "d423748d-c18a-4b2c-beff-d86d2a06ec9d"
      },
      "execution_count": null,
      "outputs": [
        {
          "output_type": "execute_result",
          "data": {
            "text/plain": [
              "{'C': 10,\n",
              " 'break_ties': False,\n",
              " 'cache_size': 200,\n",
              " 'class_weight': None,\n",
              " 'coef0': 0.0,\n",
              " 'decision_function_shape': 'ovr',\n",
              " 'degree': 3,\n",
              " 'gamma': 0.1,\n",
              " 'kernel': 'rbf',\n",
              " 'max_iter': -1,\n",
              " 'probability': False,\n",
              " 'random_state': 0,\n",
              " 'shrinking': True,\n",
              " 'tol': 0.001,\n",
              " 'verbose': False}"
            ]
          },
          "metadata": {},
          "execution_count": 52
        }
      ]
    },
    {
      "cell_type": "code",
      "source": [
        "# prediksi pada data test\n",
        "y_pred = grid_search.predict(X_test)\n",
        "# tampilkan hasil\n",
        "print(classification_report(y_test, y_pred))"
      ],
      "metadata": {
        "colab": {
          "base_uri": "https://localhost:8080/"
        },
        "id": "yAL6bjDilp6o",
        "outputId": "9e590111-0b8c-4f2f-9191-2cd637120afc"
      },
      "execution_count": null,
      "outputs": [
        {
          "output_type": "stream",
          "name": "stdout",
          "text": [
            "              precision    recall  f1-score   support\n",
            "\n",
            "          -1       0.74      0.86      0.80       132\n",
            "           0       0.42      0.43      0.43        30\n",
            "           1       0.67      0.26      0.38        38\n",
            "\n",
            "    accuracy                           0.69       200\n",
            "   macro avg       0.61      0.52      0.53       200\n",
            "weighted avg       0.68      0.69      0.66       200\n",
            "\n"
          ]
        }
      ]
    },
    {
      "cell_type": "markdown",
      "source": [
        "### 3.7.3 Evaluasi pada Data Undersampling"
      ],
      "metadata": {
        "id": "ju_dt622HvfH"
      }
    },
    {
      "cell_type": "code",
      "source": [
        "# menggunakan data undersampling\n",
        "grid_search.fit(X_train_under, y_train_under)"
      ],
      "metadata": {
        "colab": {
          "base_uri": "https://localhost:8080/"
        },
        "id": "BN50qmAfH2Rb",
        "outputId": "68f323ad-9cd3-448e-8ff7-21d0f426c750"
      },
      "execution_count": null,
      "outputs": [
        {
          "output_type": "stream",
          "name": "stdout",
          "text": [
            "Fitting 5 folds for each of 20 candidates, totalling 100 fits\n"
          ]
        },
        {
          "output_type": "execute_result",
          "data": {
            "text/plain": [
              "GridSearchCV(estimator=SVC(random_state=0), n_jobs=8,\n",
              "             param_grid={'C': [0.5, 1, 10, 100],\n",
              "                         'gamma': ['scale', 1, 0.1, 0.01, 0.001],\n",
              "                         'kernel': ['rbf']},\n",
              "             scoring='accuracy', verbose=1)"
            ]
          },
          "metadata": {},
          "execution_count": 55
        }
      ]
    },
    {
      "cell_type": "code",
      "source": [
        "# menampilkan parameter terbaik\n",
        "grid_search.best_estimator_.get_params()"
      ],
      "metadata": {
        "colab": {
          "base_uri": "https://localhost:8080/"
        },
        "id": "0nC4FuMGJQPg",
        "outputId": "35b5bc56-3efb-4b04-b5f2-4012ec7d2fd5"
      },
      "execution_count": null,
      "outputs": [
        {
          "output_type": "execute_result",
          "data": {
            "text/plain": [
              "{'C': 1,\n",
              " 'break_ties': False,\n",
              " 'cache_size': 200,\n",
              " 'class_weight': None,\n",
              " 'coef0': 0.0,\n",
              " 'decision_function_shape': 'ovr',\n",
              " 'degree': 3,\n",
              " 'gamma': 'scale',\n",
              " 'kernel': 'rbf',\n",
              " 'max_iter': -1,\n",
              " 'probability': False,\n",
              " 'random_state': 0,\n",
              " 'shrinking': True,\n",
              " 'tol': 0.001,\n",
              " 'verbose': False}"
            ]
          },
          "metadata": {},
          "execution_count": 56
        }
      ]
    },
    {
      "cell_type": "code",
      "source": [
        "# prediksi pada data test\n",
        "y_pred = grid_search.predict(X_test)\n",
        "# menampilkan hasil\n",
        "print(classification_report(y_test, y_pred))"
      ],
      "metadata": {
        "colab": {
          "base_uri": "https://localhost:8080/"
        },
        "id": "oYIS8vDpMSCH",
        "outputId": "db6b7b26-f9db-48b1-ba94-ad38cc11f2e4"
      },
      "execution_count": null,
      "outputs": [
        {
          "output_type": "stream",
          "name": "stdout",
          "text": [
            "              precision    recall  f1-score   support\n",
            "\n",
            "          -1       0.84      0.53      0.65       132\n",
            "           0       0.39      0.80      0.52        30\n",
            "           1       0.42      0.61      0.49        38\n",
            "\n",
            "    accuracy                           0.58       200\n",
            "   macro avg       0.55      0.65      0.56       200\n",
            "weighted avg       0.69      0.58      0.60       200\n",
            "\n"
          ]
        }
      ]
    },
    {
      "cell_type": "markdown",
      "source": [
        "### 3.7.4 Evaluasi pada Data Oversampling"
      ],
      "metadata": {
        "id": "9FsRXhy3IrB9"
      }
    },
    {
      "cell_type": "code",
      "source": [
        "# menggunakan data hasil oversampling\n",
        "grid_search.fit(X_train_over, y_train_over)"
      ],
      "metadata": {
        "colab": {
          "base_uri": "https://localhost:8080/"
        },
        "id": "GAPtrWpLlwsT",
        "outputId": "efdd4355-7f69-4d24-c18e-0ee59056a3b3"
      },
      "execution_count": null,
      "outputs": [
        {
          "output_type": "stream",
          "name": "stdout",
          "text": [
            "Fitting 5 folds for each of 20 candidates, totalling 100 fits\n"
          ]
        },
        {
          "output_type": "execute_result",
          "data": {
            "text/plain": [
              "GridSearchCV(estimator=SVC(random_state=0), n_jobs=8,\n",
              "             param_grid={'C': [0.5, 1, 10, 100],\n",
              "                         'gamma': ['scale', 1, 0.1, 0.01, 0.001],\n",
              "                         'kernel': ['rbf']},\n",
              "             scoring='accuracy', verbose=1)"
            ]
          },
          "metadata": {},
          "execution_count": 59
        }
      ]
    },
    {
      "cell_type": "code",
      "source": [
        "# parameter terbaik untuk data\n",
        "grid_search.best_estimator_.get_params()"
      ],
      "metadata": {
        "colab": {
          "base_uri": "https://localhost:8080/"
        },
        "id": "VS2R0UDsl26k",
        "outputId": "d8a1ece0-da84-4158-b74c-0e84f323bfb9"
      },
      "execution_count": null,
      "outputs": [
        {
          "output_type": "execute_result",
          "data": {
            "text/plain": [
              "{'C': 10,\n",
              " 'break_ties': False,\n",
              " 'cache_size': 200,\n",
              " 'class_weight': None,\n",
              " 'coef0': 0.0,\n",
              " 'decision_function_shape': 'ovr',\n",
              " 'degree': 3,\n",
              " 'gamma': 'scale',\n",
              " 'kernel': 'rbf',\n",
              " 'max_iter': -1,\n",
              " 'probability': False,\n",
              " 'random_state': 0,\n",
              " 'shrinking': True,\n",
              " 'tol': 0.001,\n",
              " 'verbose': False}"
            ]
          },
          "metadata": {},
          "execution_count": 60
        }
      ]
    },
    {
      "cell_type": "code",
      "source": [
        "# skor akurasi tertinggi\n",
        "grid_search.best_score_"
      ],
      "metadata": {
        "id": "IrcMh2sUpKq6",
        "outputId": "bbf4a97f-e5cc-4096-91ef-0c42210fedf8",
        "colab": {
          "base_uri": "https://localhost:8080/"
        }
      },
      "execution_count": null,
      "outputs": [
        {
          "output_type": "execute_result",
          "data": {
            "text/plain": [
              "0.8945578231292517"
            ]
          },
          "metadata": {},
          "execution_count": 63
        }
      ]
    },
    {
      "cell_type": "code",
      "source": [
        "# prediksi pada data test\n",
        "y_pred = grid_search.predict(X_test)\n",
        "# tampilkan hasil\n",
        "print(classification_report(y_test, y_pred))"
      ],
      "metadata": {
        "colab": {
          "base_uri": "https://localhost:8080/"
        },
        "id": "SZiygbSQl8EU",
        "outputId": "ad49af5b-8e3f-4df1-c4b6-66f5d22639a4"
      },
      "execution_count": null,
      "outputs": [
        {
          "output_type": "stream",
          "name": "stdout",
          "text": [
            "              precision    recall  f1-score   support\n",
            "\n",
            "          -1       0.73      0.95      0.83       132\n",
            "           0       0.63      0.40      0.49        30\n",
            "           1       0.60      0.16      0.25        38\n",
            "\n",
            "    accuracy                           0.71       200\n",
            "   macro avg       0.65      0.50      0.52       200\n",
            "weighted avg       0.69      0.71      0.67       200\n",
            "\n"
          ]
        }
      ]
    }
  ]
}