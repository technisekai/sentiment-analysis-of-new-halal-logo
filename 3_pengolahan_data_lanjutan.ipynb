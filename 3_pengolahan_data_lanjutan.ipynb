{
  "cells": [
    {
      "cell_type": "markdown",
      "metadata": {
        "id": "view-in-github",
        "colab_type": "text"
      },
      "source": [
        "<a href=\"https://colab.research.google.com/github/technisekai/sentiment-analysis-of-new-halal-logo/blob/main/3_pengolahan_data_lanjutan.ipynb\" target=\"_parent\"><img src=\"https://colab.research.google.com/assets/colab-badge.svg\" alt=\"Open In Colab\"/></a>"
      ]
    },
    {
      "cell_type": "markdown",
      "metadata": {
        "id": "CkhAm0E1DOQD"
      },
      "source": [
        "# **3. Pengolahan Data**\n",
        "\n",
        "Proses Sebelumnya : [**2. Preanalisis Data**](https://colab.research.google.com/drive/14v2qJpYfPWSzGsG04yGmc2OwPfomRnbW)"
      ]
    },
    {
      "cell_type": "markdown",
      "metadata": {
        "id": "zRBQCV29OVwY"
      },
      "source": [
        "## 3.1 Install dan Impor Library"
      ]
    },
    {
      "cell_type": "code",
      "execution_count": 1,
      "metadata": {
        "id": "YuN7hBpj64ok"
      },
      "outputs": [],
      "source": [
        "# untuk menggunakan model indonesian sentiment\n",
        "#!pip install transformers"
      ]
    },
    {
      "cell_type": "code",
      "execution_count": 2,
      "metadata": {
        "colab": {
          "base_uri": "https://localhost:8080/"
        },
        "id": "YAwYmGlAOCON",
        "outputId": "6c81c714-88e1-4fcb-afc2-192ff00ec545"
      },
      "outputs": [
        {
          "output_type": "stream",
          "name": "stdout",
          "text": [
            "/usr/local/lib/python3.7/dist-packages/gdown/cli.py:131: FutureWarning: Option `--id` was deprecated in version 4.3.1 and will be removed in 5.0. You don't need to pass it anymore to use a file ID.\n",
            "  category=FutureWarning,\n",
            "Downloading...\n",
            "From: https://drive.google.com/uc?id=19nlMainHfItPZ4_9K1yS3WZgk8nJW1p5\n",
            "To: /content/stopwordbahasa.csv\n",
            "100% 6.45k/6.45k [00:00<00:00, 9.40MB/s]\n",
            "/usr/local/lib/python3.7/dist-packages/gdown/cli.py:131: FutureWarning: Option `--id` was deprecated in version 4.3.1 and will be removed in 5.0. You don't need to pass it anymore to use a file ID.\n",
            "  category=FutureWarning,\n",
            "Downloading...\n",
            "From: https://drive.google.com/uc?id=1cINKFxiSycaOwVY5O5SPAxEwuhKRvqSz\n",
            "To: /content/new_kamusalay.csv\n",
            "100% 286k/286k [00:00<00:00, 110MB/s]\n"
          ]
        }
      ],
      "source": [
        "# download stopword\n",
        "!gdown --id 19nlMainHfItPZ4_9K1yS3WZgk8nJW1p5\n",
        "# download normalisasi kata\n",
        "!gdown --id 1cINKFxiSycaOwVY5O5SPAxEwuhKRvqSz"
      ]
    },
    {
      "cell_type": "code",
      "execution_count": 3,
      "metadata": {
        "colab": {
          "base_uri": "https://localhost:8080/"
        },
        "id": "Td9ApwXROT0d",
        "outputId": "9d06c150-2474-4f38-cce2-03584d911bff"
      },
      "outputs": [
        {
          "output_type": "stream",
          "name": "stdout",
          "text": [
            "Looking in indexes: https://pypi.org/simple, https://us-python.pkg.dev/colab-wheels/public/simple/\n",
            "Collecting Sastrawi\n",
            "  Downloading Sastrawi-1.0.1-py2.py3-none-any.whl (209 kB)\n",
            "\u001b[K     |████████████████████████████████| 209 kB 5.1 MB/s \n",
            "\u001b[?25hInstalling collected packages: Sastrawi\n",
            "Successfully installed Sastrawi-1.0.1\n"
          ]
        }
      ],
      "source": [
        "!pip install Sastrawi"
      ]
    },
    {
      "cell_type": "code",
      "execution_count": 4,
      "metadata": {
        "id": "ANobJ4z8HEIT"
      },
      "outputs": [],
      "source": [
        "import cv2\n",
        "import re\n",
        "import pandas as pd\n",
        "import numpy as np\n",
        "import imblearn\n",
        "import warnings\n",
        "from sklearn.metrics import classification_report, roc_auc_score\n",
        "from imblearn.over_sampling import SMOTE\n",
        "from imblearn.under_sampling import RandomUnderSampler\n",
        "from imblearn.pipeline import Pipeline\n",
        "from sklearn import metrics as m\n",
        "from wordcloud import WordCloud\n",
        "from Sastrawi.Stemmer.StemmerFactory import StemmerFactory\n",
        "from sklearn.model_selection import train_test_split\n",
        "from sklearn.metrics import confusion_matrix\n",
        "from google.colab.patches import cv2_imshow\n",
        "from sklearn.svm import SVC\n",
        "import matplotlib.pyplot as plt\n",
        "from collections import Counter\n",
        "from sklearn.metrics import confusion_matrix, ConfusionMatrixDisplay\n",
        "\n",
        "warnings.filterwarnings('ignore')\n",
        "\n",
        "# preparing var to stemming\n",
        "factory = StemmerFactory()\n",
        "stemmer = factory.create_stemmer()\n",
        "\n",
        "# preparing normalize word\n",
        "alay_dict = pd.read_csv('new_kamusalay.csv', encoding='latin-1', header=None)\n",
        "alay_dict = alay_dict.rename(columns={0: 'original', \n",
        "                                      1: 'replacement'})\n",
        "alay_dict_map = dict(zip(alay_dict['original'], alay_dict['replacement']))\n",
        "# preparing remove stopword\n",
        "id_stopword_dict = pd.read_csv('stopwordbahasa.csv', header=None)\n",
        "id_stopword_dict = id_stopword_dict.rename(columns={0: 'stopword'})"
      ]
    },
    {
      "cell_type": "markdown",
      "metadata": {
        "id": "vNXqLgezOjah"
      },
      "source": [
        "## 3.2 Data Cleansing\n",
        "\n",
        "meliputi proses mengubah huruf \n",
        "\n",
        "*   mengubah huruf kapital menjadi huruf kecil.\n",
        "*   menghilangkan kata tidak penting seperti \\n, simbol retweet, username, url, dan spasi ekstra.\n",
        "*   Normalisasi kata\n",
        "*   Stemming"
      ]
    },
    {
      "cell_type": "code",
      "execution_count": 5,
      "metadata": {
        "id": "nOWk_kU242cT"
      },
      "outputs": [],
      "source": [
        "# impor dataset\n",
        "df = pd.read_csv('/content/drive/MyDrive/Dataset/tugas-akhir/labeled/logo-halal-labeled-with-indonesia-sentiment.csv')"
      ]
    },
    {
      "cell_type": "code",
      "execution_count": 24,
      "metadata": {
        "id": "1J1NgMQmMd_B"
      },
      "outputs": [],
      "source": [
        "import re\n",
        "\n",
        "# lowercase\n",
        "def lowercase(text):\n",
        "    return text.lower()\n",
        "\n",
        "# remove uncertain word in sentence\n",
        "def remove_unnecessary_char(text):\n",
        "    text = re.sub('\\n',' ',text) # Remove every '\\n'\n",
        "    text = re.sub('&([a-zA-Z0-9_]{1,50})', ' ', text) # remove html code\n",
        "    text = re.sub('#([a-zA-Z0-9_]{1,50})', ' ', text) # remove hashtag\n",
        "    text = re.sub('@[^\\s]+',' ',text) # Remove every username\n",
        "    text = re.sub('((www\\.[^\\s]+)|(https?://[^\\s]+)|(http?://[^\\s]+))',' ',text) # Remove every URL\n",
        "    text = re.sub('  +', ' ', text) # Remove extra spaces\n",
        "    return text\n",
        "\n",
        "# remove non-alphanumeruic   \n",
        "def remove_nonaplhanumeric(text):\n",
        "    text = re.sub('[^0-9a-zA-Z]+', ' ', text)\n",
        "    text = re.sub(r'[-+]?[0-9]+', '', text)\n",
        "    return text\n",
        "\n",
        "# stemming\n",
        "def stemming(text):\n",
        "    return stemmer.stem(text)\n",
        "\n",
        "# normalization\n",
        "def normalize_alay(text):\n",
        "    return ' '.join([alay_dict_map[word] if word in alay_dict_map else word for word in text.split(' ')])\n",
        "\n",
        "# remove stopword\n",
        "def remove_stopword(text):\n",
        "    text = ' '.join(['' if word in id_stopword_dict.stopword.values else word for word in text.split(' ')])\n",
        "    text = re.sub('  +', ' ', text) # Remove extra spaces\n",
        "    text = text.strip()\n",
        "    return text\n",
        "\n",
        "# preprocessing using function defined above\n",
        "def preprocess(text):\n",
        "    text = lowercase(text) # 1\n",
        "    text = remove_unnecessary_char(text) # 2\n",
        "    text = remove_nonaplhanumeric(text) # 3\n",
        "    text = normalize_alay(text) # 4\n",
        "    text = remove_stopword(text) # 6\n",
        "    text = stemming(text) # 5\n",
        "    return text"
      ]
    },
    {
      "cell_type": "code",
      "execution_count": 25,
      "metadata": {
        "id": "3R61OHWUMnr6"
      },
      "outputs": [],
      "source": [
        "# memanggil fungsi prepoecess untuk cleansing kolom normalization_tweet\n",
        "df['clean_tweet'] = df['normalization_tweet'].apply(preprocess)"
      ]
    },
    {
      "cell_type": "code",
      "source": [
        "# menampilkan data\n",
        "df[['normalization_tweet', 'clean_tweet']].head()"
      ],
      "metadata": {
        "colab": {
          "base_uri": "https://localhost:8080/",
          "height": 206
        },
        "id": "wwwh_qUxE4EF",
        "outputId": "d02950d6-5f28-47ff-a5b8-d15b8982eb92"
      },
      "execution_count": 26,
      "outputs": [
        {
          "output_type": "execute_result",
          "data": {
            "text/plain": [
              "                                 normalization_tweet  \\\n",
              "0  eh… saya bukan muslim tapi saya hanya ingin me...   \n",
              "1  intinya bukan labelnya yang budaya bang, tetap...   \n",
              "2  ayo jangan terkecoh sama isu adzan, logo halal...   \n",
              "3  dengan terbitnya logo baru, menteri agama yaqu...   \n",
              "4      logo halal islam nusantara...alias liberal...   \n",
              "\n",
              "                                         clean_tweet  \n",
              "0                    eh muslim dapat suka logo halal  \n",
              "1  inti label budaya bang bentuk logo sih selera ...  \n",
              "2  ayo kecoh isu azan logo halal kemah titik beta...  \n",
              "3  terbit logo menteri agama yaqut cholil qoumas ...  \n",
              "4           logo halal islam nusantara alias liberal  "
            ],
            "text/html": [
              "\n",
              "  <div id=\"df-738694a8-603d-4221-bba2-1c8a717ed69b\">\n",
              "    <div class=\"colab-df-container\">\n",
              "      <div>\n",
              "<style scoped>\n",
              "    .dataframe tbody tr th:only-of-type {\n",
              "        vertical-align: middle;\n",
              "    }\n",
              "\n",
              "    .dataframe tbody tr th {\n",
              "        vertical-align: top;\n",
              "    }\n",
              "\n",
              "    .dataframe thead th {\n",
              "        text-align: right;\n",
              "    }\n",
              "</style>\n",
              "<table border=\"1\" class=\"dataframe\">\n",
              "  <thead>\n",
              "    <tr style=\"text-align: right;\">\n",
              "      <th></th>\n",
              "      <th>normalization_tweet</th>\n",
              "      <th>clean_tweet</th>\n",
              "    </tr>\n",
              "  </thead>\n",
              "  <tbody>\n",
              "    <tr>\n",
              "      <th>0</th>\n",
              "      <td>eh… saya bukan muslim tapi saya hanya ingin me...</td>\n",
              "      <td>eh muslim dapat suka logo halal</td>\n",
              "    </tr>\n",
              "    <tr>\n",
              "      <th>1</th>\n",
              "      <td>intinya bukan labelnya yang budaya bang, tetap...</td>\n",
              "      <td>inti label budaya bang bentuk logo sih selera ...</td>\n",
              "    </tr>\n",
              "    <tr>\n",
              "      <th>2</th>\n",
              "      <td>ayo jangan terkecoh sama isu adzan, logo halal...</td>\n",
              "      <td>ayo kecoh isu azan logo halal kemah titik beta...</td>\n",
              "    </tr>\n",
              "    <tr>\n",
              "      <th>3</th>\n",
              "      <td>dengan terbitnya logo baru, menteri agama yaqu...</td>\n",
              "      <td>terbit logo menteri agama yaqut cholil qoumas ...</td>\n",
              "    </tr>\n",
              "    <tr>\n",
              "      <th>4</th>\n",
              "      <td>logo halal islam nusantara...alias liberal...</td>\n",
              "      <td>logo halal islam nusantara alias liberal</td>\n",
              "    </tr>\n",
              "  </tbody>\n",
              "</table>\n",
              "</div>\n",
              "      <button class=\"colab-df-convert\" onclick=\"convertToInteractive('df-738694a8-603d-4221-bba2-1c8a717ed69b')\"\n",
              "              title=\"Convert this dataframe to an interactive table.\"\n",
              "              style=\"display:none;\">\n",
              "        \n",
              "  <svg xmlns=\"http://www.w3.org/2000/svg\" height=\"24px\"viewBox=\"0 0 24 24\"\n",
              "       width=\"24px\">\n",
              "    <path d=\"M0 0h24v24H0V0z\" fill=\"none\"/>\n",
              "    <path d=\"M18.56 5.44l.94 2.06.94-2.06 2.06-.94-2.06-.94-.94-2.06-.94 2.06-2.06.94zm-11 1L8.5 8.5l.94-2.06 2.06-.94-2.06-.94L8.5 2.5l-.94 2.06-2.06.94zm10 10l.94 2.06.94-2.06 2.06-.94-2.06-.94-.94-2.06-.94 2.06-2.06.94z\"/><path d=\"M17.41 7.96l-1.37-1.37c-.4-.4-.92-.59-1.43-.59-.52 0-1.04.2-1.43.59L10.3 9.45l-7.72 7.72c-.78.78-.78 2.05 0 2.83L4 21.41c.39.39.9.59 1.41.59.51 0 1.02-.2 1.41-.59l7.78-7.78 2.81-2.81c.8-.78.8-2.07 0-2.86zM5.41 20L4 18.59l7.72-7.72 1.47 1.35L5.41 20z\"/>\n",
              "  </svg>\n",
              "      </button>\n",
              "      \n",
              "  <style>\n",
              "    .colab-df-container {\n",
              "      display:flex;\n",
              "      flex-wrap:wrap;\n",
              "      gap: 12px;\n",
              "    }\n",
              "\n",
              "    .colab-df-convert {\n",
              "      background-color: #E8F0FE;\n",
              "      border: none;\n",
              "      border-radius: 50%;\n",
              "      cursor: pointer;\n",
              "      display: none;\n",
              "      fill: #1967D2;\n",
              "      height: 32px;\n",
              "      padding: 0 0 0 0;\n",
              "      width: 32px;\n",
              "    }\n",
              "\n",
              "    .colab-df-convert:hover {\n",
              "      background-color: #E2EBFA;\n",
              "      box-shadow: 0px 1px 2px rgba(60, 64, 67, 0.3), 0px 1px 3px 1px rgba(60, 64, 67, 0.15);\n",
              "      fill: #174EA6;\n",
              "    }\n",
              "\n",
              "    [theme=dark] .colab-df-convert {\n",
              "      background-color: #3B4455;\n",
              "      fill: #D2E3FC;\n",
              "    }\n",
              "\n",
              "    [theme=dark] .colab-df-convert:hover {\n",
              "      background-color: #434B5C;\n",
              "      box-shadow: 0px 1px 3px 1px rgba(0, 0, 0, 0.15);\n",
              "      filter: drop-shadow(0px 1px 2px rgba(0, 0, 0, 0.3));\n",
              "      fill: #FFFFFF;\n",
              "    }\n",
              "  </style>\n",
              "\n",
              "      <script>\n",
              "        const buttonEl =\n",
              "          document.querySelector('#df-738694a8-603d-4221-bba2-1c8a717ed69b button.colab-df-convert');\n",
              "        buttonEl.style.display =\n",
              "          google.colab.kernel.accessAllowed ? 'block' : 'none';\n",
              "\n",
              "        async function convertToInteractive(key) {\n",
              "          const element = document.querySelector('#df-738694a8-603d-4221-bba2-1c8a717ed69b');\n",
              "          const dataTable =\n",
              "            await google.colab.kernel.invokeFunction('convertToInteractive',\n",
              "                                                     [key], {});\n",
              "          if (!dataTable) return;\n",
              "\n",
              "          const docLinkHtml = 'Like what you see? Visit the ' +\n",
              "            '<a target=\"_blank\" href=https://colab.research.google.com/notebooks/data_table.ipynb>data table notebook</a>'\n",
              "            + ' to learn more about interactive tables.';\n",
              "          element.innerHTML = '';\n",
              "          dataTable['output_type'] = 'display_data';\n",
              "          await google.colab.output.renderOutput(dataTable, element);\n",
              "          const docLink = document.createElement('div');\n",
              "          docLink.innerHTML = docLinkHtml;\n",
              "          element.appendChild(docLink);\n",
              "        }\n",
              "      </script>\n",
              "    </div>\n",
              "  </div>\n",
              "  "
            ]
          },
          "metadata": {},
          "execution_count": 26
        }
      ]
    },
    {
      "cell_type": "code",
      "execution_count": 27,
      "metadata": {
        "id": "KEdkzw1g0bQK"
      },
      "outputs": [],
      "source": [
        "# ubah label menjadi numeric\n",
        "def label_to_num(label):\n",
        "  if label == 'positive':\n",
        "    return 1\n",
        "  elif label == 'negative':\n",
        "    return -1\n",
        "  else:\n",
        "    return 0"
      ]
    },
    {
      "cell_type": "code",
      "execution_count": 28,
      "metadata": {
        "id": "pokKkG-i0hCz"
      },
      "outputs": [],
      "source": [
        "# memanggil fungsi label_to_num\n",
        "df['class_data'] = df['sentiment'].apply(label_to_num)"
      ]
    },
    {
      "cell_type": "code",
      "source": [
        "# dict\n",
        "slang_word = {}\n",
        "\n",
        "# lanjutan cleaning analisis\n",
        "with open ('lanjutan_cleaning.txt', 'r') as txt:\n",
        "  for i in txt:\n",
        "    split = i.split(' -> ')\n",
        "    slang_word[split[0]] = split[1].replace('\\n', '')"
      ],
      "metadata": {
        "id": "OHmlMQbXyq6p"
      },
      "execution_count": 29,
      "outputs": []
    },
    {
      "cell_type": "code",
      "source": [
        "unknown_df = pd.DataFrame()\n",
        "unknown_word = [i for i in advance_clean if advance_clean[i] == '?']\n",
        "\n",
        "def search_word(text):\n",
        "  text_split = text.split(' ')\n",
        "  for i in unknown_word:\n",
        "    for j in text_split:\n",
        "      if i == j:\n",
        "        return text, i"
      ],
      "metadata": {
        "id": "mv7X9qgm1TiF"
      },
      "execution_count": null,
      "outputs": []
    },
    {
      "cell_type": "code",
      "source": [
        "unknown_df['found'] = df['clean_tweet'].apply(search_word)"
      ],
      "metadata": {
        "id": "AT6LyM6O0gzV"
      },
      "execution_count": null,
      "outputs": []
    },
    {
      "cell_type": "code",
      "source": [
        "unknown_df.dropna()"
      ],
      "metadata": {
        "colab": {
          "base_uri": "https://localhost:8080/",
          "height": 705
        },
        "id": "baNr_RXj2n0K",
        "outputId": "de1efd00-ece9-421c-da68-e5f882096022"
      },
      "execution_count": null,
      "outputs": [
        {
          "output_type": "execute_result",
          "data": {
            "text/plain": [
              "                                                 found\n",
              "14   (logo referensi tulis arab konsisten kaidah kh...\n",
              "18   (tuju bentuk kaligrafi logo halal tante usul g...\n",
              "20   (kemnaker kreasi bikin undang undang jht mente...\n",
              "37   (desain gue bilang sih cakap fungsi logo halal...\n",
              "59   (logo halal cermin sederhana ala nu kaligrafi ...\n",
              "..                                                 ...\n",
              "957  (anjim lihat gue barusan ben logo warna ungu s...\n",
              "960  (kemarin kh miftahul akhyar paksa undur ketua ...\n",
              "973  (logo halal ubah panas case wayang ya wayang d...\n",
              "983  (seek logo halal tulis halal ky undang tonton ...\n",
              "985  (bro turut logo anyare halal seng pasang produ...\n",
              "\n",
              "[69 rows x 1 columns]"
            ],
            "text/html": [
              "\n",
              "  <div id=\"df-17895c45-9ad3-4b02-9109-b2ecc9ce75f6\">\n",
              "    <div class=\"colab-df-container\">\n",
              "      <div>\n",
              "<style scoped>\n",
              "    .dataframe tbody tr th:only-of-type {\n",
              "        vertical-align: middle;\n",
              "    }\n",
              "\n",
              "    .dataframe tbody tr th {\n",
              "        vertical-align: top;\n",
              "    }\n",
              "\n",
              "    .dataframe thead th {\n",
              "        text-align: right;\n",
              "    }\n",
              "</style>\n",
              "<table border=\"1\" class=\"dataframe\">\n",
              "  <thead>\n",
              "    <tr style=\"text-align: right;\">\n",
              "      <th></th>\n",
              "      <th>found</th>\n",
              "    </tr>\n",
              "  </thead>\n",
              "  <tbody>\n",
              "    <tr>\n",
              "      <th>14</th>\n",
              "      <td>(logo referensi tulis arab konsisten kaidah kh...</td>\n",
              "    </tr>\n",
              "    <tr>\n",
              "      <th>18</th>\n",
              "      <td>(tuju bentuk kaligrafi logo halal tante usul g...</td>\n",
              "    </tr>\n",
              "    <tr>\n",
              "      <th>20</th>\n",
              "      <td>(kemnaker kreasi bikin undang undang jht mente...</td>\n",
              "    </tr>\n",
              "    <tr>\n",
              "      <th>37</th>\n",
              "      <td>(desain gue bilang sih cakap fungsi logo halal...</td>\n",
              "    </tr>\n",
              "    <tr>\n",
              "      <th>59</th>\n",
              "      <td>(logo halal cermin sederhana ala nu kaligrafi ...</td>\n",
              "    </tr>\n",
              "    <tr>\n",
              "      <th>...</th>\n",
              "      <td>...</td>\n",
              "    </tr>\n",
              "    <tr>\n",
              "      <th>957</th>\n",
              "      <td>(anjim lihat gue barusan ben logo warna ungu s...</td>\n",
              "    </tr>\n",
              "    <tr>\n",
              "      <th>960</th>\n",
              "      <td>(kemarin kh miftahul akhyar paksa undur ketua ...</td>\n",
              "    </tr>\n",
              "    <tr>\n",
              "      <th>973</th>\n",
              "      <td>(logo halal ubah panas case wayang ya wayang d...</td>\n",
              "    </tr>\n",
              "    <tr>\n",
              "      <th>983</th>\n",
              "      <td>(seek logo halal tulis halal ky undang tonton ...</td>\n",
              "    </tr>\n",
              "    <tr>\n",
              "      <th>985</th>\n",
              "      <td>(bro turut logo anyare halal seng pasang produ...</td>\n",
              "    </tr>\n",
              "  </tbody>\n",
              "</table>\n",
              "<p>69 rows × 1 columns</p>\n",
              "</div>\n",
              "      <button class=\"colab-df-convert\" onclick=\"convertToInteractive('df-17895c45-9ad3-4b02-9109-b2ecc9ce75f6')\"\n",
              "              title=\"Convert this dataframe to an interactive table.\"\n",
              "              style=\"display:none;\">\n",
              "        \n",
              "  <svg xmlns=\"http://www.w3.org/2000/svg\" height=\"24px\"viewBox=\"0 0 24 24\"\n",
              "       width=\"24px\">\n",
              "    <path d=\"M0 0h24v24H0V0z\" fill=\"none\"/>\n",
              "    <path d=\"M18.56 5.44l.94 2.06.94-2.06 2.06-.94-2.06-.94-.94-2.06-.94 2.06-2.06.94zm-11 1L8.5 8.5l.94-2.06 2.06-.94-2.06-.94L8.5 2.5l-.94 2.06-2.06.94zm10 10l.94 2.06.94-2.06 2.06-.94-2.06-.94-.94-2.06-.94 2.06-2.06.94z\"/><path d=\"M17.41 7.96l-1.37-1.37c-.4-.4-.92-.59-1.43-.59-.52 0-1.04.2-1.43.59L10.3 9.45l-7.72 7.72c-.78.78-.78 2.05 0 2.83L4 21.41c.39.39.9.59 1.41.59.51 0 1.02-.2 1.41-.59l7.78-7.78 2.81-2.81c.8-.78.8-2.07 0-2.86zM5.41 20L4 18.59l7.72-7.72 1.47 1.35L5.41 20z\"/>\n",
              "  </svg>\n",
              "      </button>\n",
              "      \n",
              "  <style>\n",
              "    .colab-df-container {\n",
              "      display:flex;\n",
              "      flex-wrap:wrap;\n",
              "      gap: 12px;\n",
              "    }\n",
              "\n",
              "    .colab-df-convert {\n",
              "      background-color: #E8F0FE;\n",
              "      border: none;\n",
              "      border-radius: 50%;\n",
              "      cursor: pointer;\n",
              "      display: none;\n",
              "      fill: #1967D2;\n",
              "      height: 32px;\n",
              "      padding: 0 0 0 0;\n",
              "      width: 32px;\n",
              "    }\n",
              "\n",
              "    .colab-df-convert:hover {\n",
              "      background-color: #E2EBFA;\n",
              "      box-shadow: 0px 1px 2px rgba(60, 64, 67, 0.3), 0px 1px 3px 1px rgba(60, 64, 67, 0.15);\n",
              "      fill: #174EA6;\n",
              "    }\n",
              "\n",
              "    [theme=dark] .colab-df-convert {\n",
              "      background-color: #3B4455;\n",
              "      fill: #D2E3FC;\n",
              "    }\n",
              "\n",
              "    [theme=dark] .colab-df-convert:hover {\n",
              "      background-color: #434B5C;\n",
              "      box-shadow: 0px 1px 3px 1px rgba(0, 0, 0, 0.15);\n",
              "      filter: drop-shadow(0px 1px 2px rgba(0, 0, 0, 0.3));\n",
              "      fill: #FFFFFF;\n",
              "    }\n",
              "  </style>\n",
              "\n",
              "      <script>\n",
              "        const buttonEl =\n",
              "          document.querySelector('#df-17895c45-9ad3-4b02-9109-b2ecc9ce75f6 button.colab-df-convert');\n",
              "        buttonEl.style.display =\n",
              "          google.colab.kernel.accessAllowed ? 'block' : 'none';\n",
              "\n",
              "        async function convertToInteractive(key) {\n",
              "          const element = document.querySelector('#df-17895c45-9ad3-4b02-9109-b2ecc9ce75f6');\n",
              "          const dataTable =\n",
              "            await google.colab.kernel.invokeFunction('convertToInteractive',\n",
              "                                                     [key], {});\n",
              "          if (!dataTable) return;\n",
              "\n",
              "          const docLinkHtml = 'Like what you see? Visit the ' +\n",
              "            '<a target=\"_blank\" href=https://colab.research.google.com/notebooks/data_table.ipynb>data table notebook</a>'\n",
              "            + ' to learn more about interactive tables.';\n",
              "          element.innerHTML = '';\n",
              "          dataTable['output_type'] = 'display_data';\n",
              "          await google.colab.output.renderOutput(dataTable, element);\n",
              "          const docLink = document.createElement('div');\n",
              "          docLink.innerHTML = docLinkHtml;\n",
              "          element.appendChild(docLink);\n",
              "        }\n",
              "      </script>\n",
              "    </div>\n",
              "  </div>\n",
              "  "
            ]
          },
          "metadata": {},
          "execution_count": 47
        }
      ]
    },
    {
      "cell_type": "code",
      "execution_count": null,
      "metadata": {
        "id": "oLdDVZXI0kNb"
      },
      "outputs": [],
      "source": [
        "# definisi atribut dan label\n",
        "X = df['clean_tweet'].values\n",
        "y = df['class_data'].values"
      ]
    },
    {
      "cell_type": "markdown",
      "metadata": {
        "id": "eHZ9U-npr60h"
      },
      "source": [
        "## 3.3 Data Labeling"
      ]
    },
    {
      "cell_type": "code",
      "execution_count": null,
      "metadata": {
        "id": "ju8YSSPSog18"
      },
      "outputs": [],
      "source": [
        "!git lfs install\n",
        "!git clone https://huggingface.co/sahri/indonesiasentiment\n",
        "!pip install transformers"
      ]
    },
    {
      "cell_type": "code",
      "execution_count": null,
      "metadata": {
        "id": "5PD_ZUOBoAjM"
      },
      "outputs": [],
      "source": [
        "from transformers import pipeline\n",
        "\n",
        "pretrained_name = \"/content/indonesiasentiment\"\n",
        "\n",
        "nlp = pipeline(\n",
        "    \"sentiment-analysis\",\n",
        "    model=pretrained_name,\n",
        "    tokenizer=pretrained_name\n",
        ")\n"
      ]
    },
    {
      "cell_type": "code",
      "execution_count": null,
      "metadata": {
        "id": "4R_8wWUfpawV"
      },
      "outputs": [],
      "source": [
        "# definisi fungsi untuk labeling\n",
        "def labeling(text):\n",
        "  x = nlp(text)\n",
        "  return x[0]['label']"
      ]
    },
    {
      "cell_type": "code",
      "execution_count": null,
      "metadata": {
        "id": "NOluHWGhqLEh"
      },
      "outputs": [],
      "source": [
        "# panggil fungsi labeling dan buat kolom baru\n",
        "df['sentiment'] = df['normalization_tweet'].apply(labeling)"
      ]
    },
    {
      "cell_type": "markdown",
      "metadata": {
        "id": "uDwhEGiK1XoF"
      },
      "source": [
        "## 3.4 Split Data 80:20\n",
        "\n",
        "Memisah data latih dan uji dengan proporsi 80:20."
      ]
    },
    {
      "cell_type": "code",
      "execution_count": null,
      "metadata": {
        "id": "ffpDECyVmTbl"
      },
      "outputs": [],
      "source": [
        "# split data \n",
        "X_train, X_test, y_train, y_test = train_test_split(X, y, test_size=0.2, shuffle=True)"
      ]
    },
    {
      "cell_type": "code",
      "execution_count": null,
      "metadata": {
        "id": "HGX7by_2cWsh"
      },
      "outputs": [],
      "source": [
        "a, b, c, d = X_train, X_test, y_train, y_test"
      ]
    },
    {
      "cell_type": "code",
      "execution_count": null,
      "metadata": {
        "id": "wlJSok6IONYH"
      },
      "outputs": [],
      "source": [
        "def show_info_label(x):\n",
        "  return Counter(x)"
      ]
    },
    {
      "cell_type": "code",
      "execution_count": null,
      "metadata": {
        "colab": {
          "base_uri": "https://localhost:8080/"
        },
        "id": "c6yGF9sL1jS6",
        "outputId": "ed30881c-df61-4982-e149-3ff39e93ed80"
      },
      "outputs": [
        {
          "output_type": "stream",
          "name": "stdout",
          "text": [
            "Jumlah data latih :  800\n",
            "Jumlah data Uji :  200\n"
          ]
        }
      ],
      "source": [
        "# tampilkan jumlah data\n",
        "print(\"Jumlah data latih : \", len(X_train))\n",
        "print(\"Jumlah data Uji : \", len(X_test))"
      ]
    },
    {
      "cell_type": "code",
      "execution_count": null,
      "metadata": {
        "colab": {
          "base_uri": "https://localhost:8080/"
        },
        "id": "0ujdcbX6Obtc",
        "outputId": "d85da4cd-b97b-42ef-9be9-4bf2848dcf5e"
      },
      "outputs": [
        {
          "output_type": "stream",
          "name": "stdout",
          "text": [
            "Jumlah label data pada data latih:  Counter({-1: 497, 1: 153, 0: 150})\n",
            "Jumlah label data pada data uji:  Counter({-1: 125, 0: 42, 1: 33})\n"
          ]
        }
      ],
      "source": [
        "# tampilkan jumlah label setiap data\n",
        "print(\"Jumlah label data pada data latih: \", show_info_label(y_train))\n",
        "print(\"Jumlah label data pada data uji: \", show_info_label(y_test))"
      ]
    },
    {
      "cell_type": "markdown",
      "metadata": {
        "id": "LakD7jst1Iki"
      },
      "source": [
        "## 3.5 TF-IDF\n",
        "\n",
        "Mengubah kalimat menjadi vector angka numerik."
      ]
    },
    {
      "cell_type": "code",
      "execution_count": null,
      "metadata": {
        "colab": {
          "base_uri": "https://localhost:8080/"
        },
        "id": "8Tcu1WR5lmJs",
        "outputId": "00a1201e-caf1-4a28-8a9c-d5e187bb2234"
      },
      "outputs": [
        {
          "output_type": "execute_result",
          "data": {
            "text/plain": [
              "TfidfVectorizer()"
            ]
          },
          "metadata": {},
          "execution_count": 17
        }
      ],
      "source": [
        "from sklearn.feature_extraction.text import TfidfVectorizer\n",
        "\n",
        "# ubah teks ke vektor berdasar data train\n",
        "tf_idf = TfidfVectorizer()\n",
        "tf_idf.fit(X_train)"
      ]
    },
    {
      "cell_type": "code",
      "execution_count": null,
      "metadata": {
        "id": "MfH_lD2AmFK9"
      },
      "outputs": [],
      "source": [
        "# ubah teks ke vektor\n",
        "X_train = tf_idf.transform(X_train).toarray()\n",
        "X_test = tf_idf.transform(X_test).toarray()"
      ]
    },
    {
      "cell_type": "code",
      "execution_count": null,
      "metadata": {
        "colab": {
          "base_uri": "https://localhost:8080/",
          "height": 279
        },
        "id": "MkztrZ5nNar5",
        "outputId": "3abb58c8-343f-43ab-ecd0-e894b2c645ed"
      },
      "outputs": [
        {
          "output_type": "execute_result",
          "data": {
            "text/plain": [
              "   abbas  abjad  about  abu  abur  acara  acc  aceh  achmadi  acu  ...  your  \\\n",
              "0    0.0    0.0    0.0  0.0   0.0    0.0  0.0   0.0      0.0  0.0  ...   0.0   \n",
              "1    0.0    0.0    0.0  0.0   0.0    0.0  0.0   0.0      0.0  0.0  ...   0.0   \n",
              "2    0.0    0.0    0.0  0.0   0.0    0.0  0.0   0.0      0.0  0.0  ...   0.0   \n",
              "3    0.0    0.0    0.0  0.0   0.0    0.0  0.0   0.0      0.0  0.0  ...   0.0   \n",
              "4    0.0    0.0    0.0  0.0   0.0    0.0  0.0   0.0      0.0  0.0  ...   0.0   \n",
              "\n",
              "   youtube  yoweslah  yudhoyono  yuk  zalik  zalim  zaman  zat   zi  \n",
              "0      0.0       0.0        0.0  0.0    0.0    0.0    0.0  0.0  0.0  \n",
              "1      0.0       0.0        0.0  0.0    0.0    0.0    0.0  0.0  0.0  \n",
              "2      0.0       0.0        0.0  0.0    0.0    0.0    0.0  0.0  0.0  \n",
              "3      0.0       0.0        0.0  0.0    0.0    0.0    0.0  0.0  0.0  \n",
              "4      0.0       0.0        0.0  0.0    0.0    0.0    0.0  0.0  0.0  \n",
              "\n",
              "[5 rows x 1815 columns]"
            ],
            "text/html": [
              "\n",
              "  <div id=\"df-8d66433d-a974-4522-a03d-523ffa8e7270\">\n",
              "    <div class=\"colab-df-container\">\n",
              "      <div>\n",
              "<style scoped>\n",
              "    .dataframe tbody tr th:only-of-type {\n",
              "        vertical-align: middle;\n",
              "    }\n",
              "\n",
              "    .dataframe tbody tr th {\n",
              "        vertical-align: top;\n",
              "    }\n",
              "\n",
              "    .dataframe thead th {\n",
              "        text-align: right;\n",
              "    }\n",
              "</style>\n",
              "<table border=\"1\" class=\"dataframe\">\n",
              "  <thead>\n",
              "    <tr style=\"text-align: right;\">\n",
              "      <th></th>\n",
              "      <th>abbas</th>\n",
              "      <th>abjad</th>\n",
              "      <th>about</th>\n",
              "      <th>abu</th>\n",
              "      <th>abur</th>\n",
              "      <th>acara</th>\n",
              "      <th>acc</th>\n",
              "      <th>aceh</th>\n",
              "      <th>achmadi</th>\n",
              "      <th>acu</th>\n",
              "      <th>...</th>\n",
              "      <th>your</th>\n",
              "      <th>youtube</th>\n",
              "      <th>yoweslah</th>\n",
              "      <th>yudhoyono</th>\n",
              "      <th>yuk</th>\n",
              "      <th>zalik</th>\n",
              "      <th>zalim</th>\n",
              "      <th>zaman</th>\n",
              "      <th>zat</th>\n",
              "      <th>zi</th>\n",
              "    </tr>\n",
              "  </thead>\n",
              "  <tbody>\n",
              "    <tr>\n",
              "      <th>0</th>\n",
              "      <td>0.0</td>\n",
              "      <td>0.0</td>\n",
              "      <td>0.0</td>\n",
              "      <td>0.0</td>\n",
              "      <td>0.0</td>\n",
              "      <td>0.0</td>\n",
              "      <td>0.0</td>\n",
              "      <td>0.0</td>\n",
              "      <td>0.0</td>\n",
              "      <td>0.0</td>\n",
              "      <td>...</td>\n",
              "      <td>0.0</td>\n",
              "      <td>0.0</td>\n",
              "      <td>0.0</td>\n",
              "      <td>0.0</td>\n",
              "      <td>0.0</td>\n",
              "      <td>0.0</td>\n",
              "      <td>0.0</td>\n",
              "      <td>0.0</td>\n",
              "      <td>0.0</td>\n",
              "      <td>0.0</td>\n",
              "    </tr>\n",
              "    <tr>\n",
              "      <th>1</th>\n",
              "      <td>0.0</td>\n",
              "      <td>0.0</td>\n",
              "      <td>0.0</td>\n",
              "      <td>0.0</td>\n",
              "      <td>0.0</td>\n",
              "      <td>0.0</td>\n",
              "      <td>0.0</td>\n",
              "      <td>0.0</td>\n",
              "      <td>0.0</td>\n",
              "      <td>0.0</td>\n",
              "      <td>...</td>\n",
              "      <td>0.0</td>\n",
              "      <td>0.0</td>\n",
              "      <td>0.0</td>\n",
              "      <td>0.0</td>\n",
              "      <td>0.0</td>\n",
              "      <td>0.0</td>\n",
              "      <td>0.0</td>\n",
              "      <td>0.0</td>\n",
              "      <td>0.0</td>\n",
              "      <td>0.0</td>\n",
              "    </tr>\n",
              "    <tr>\n",
              "      <th>2</th>\n",
              "      <td>0.0</td>\n",
              "      <td>0.0</td>\n",
              "      <td>0.0</td>\n",
              "      <td>0.0</td>\n",
              "      <td>0.0</td>\n",
              "      <td>0.0</td>\n",
              "      <td>0.0</td>\n",
              "      <td>0.0</td>\n",
              "      <td>0.0</td>\n",
              "      <td>0.0</td>\n",
              "      <td>...</td>\n",
              "      <td>0.0</td>\n",
              "      <td>0.0</td>\n",
              "      <td>0.0</td>\n",
              "      <td>0.0</td>\n",
              "      <td>0.0</td>\n",
              "      <td>0.0</td>\n",
              "      <td>0.0</td>\n",
              "      <td>0.0</td>\n",
              "      <td>0.0</td>\n",
              "      <td>0.0</td>\n",
              "    </tr>\n",
              "    <tr>\n",
              "      <th>3</th>\n",
              "      <td>0.0</td>\n",
              "      <td>0.0</td>\n",
              "      <td>0.0</td>\n",
              "      <td>0.0</td>\n",
              "      <td>0.0</td>\n",
              "      <td>0.0</td>\n",
              "      <td>0.0</td>\n",
              "      <td>0.0</td>\n",
              "      <td>0.0</td>\n",
              "      <td>0.0</td>\n",
              "      <td>...</td>\n",
              "      <td>0.0</td>\n",
              "      <td>0.0</td>\n",
              "      <td>0.0</td>\n",
              "      <td>0.0</td>\n",
              "      <td>0.0</td>\n",
              "      <td>0.0</td>\n",
              "      <td>0.0</td>\n",
              "      <td>0.0</td>\n",
              "      <td>0.0</td>\n",
              "      <td>0.0</td>\n",
              "    </tr>\n",
              "    <tr>\n",
              "      <th>4</th>\n",
              "      <td>0.0</td>\n",
              "      <td>0.0</td>\n",
              "      <td>0.0</td>\n",
              "      <td>0.0</td>\n",
              "      <td>0.0</td>\n",
              "      <td>0.0</td>\n",
              "      <td>0.0</td>\n",
              "      <td>0.0</td>\n",
              "      <td>0.0</td>\n",
              "      <td>0.0</td>\n",
              "      <td>...</td>\n",
              "      <td>0.0</td>\n",
              "      <td>0.0</td>\n",
              "      <td>0.0</td>\n",
              "      <td>0.0</td>\n",
              "      <td>0.0</td>\n",
              "      <td>0.0</td>\n",
              "      <td>0.0</td>\n",
              "      <td>0.0</td>\n",
              "      <td>0.0</td>\n",
              "      <td>0.0</td>\n",
              "    </tr>\n",
              "  </tbody>\n",
              "</table>\n",
              "<p>5 rows × 1815 columns</p>\n",
              "</div>\n",
              "      <button class=\"colab-df-convert\" onclick=\"convertToInteractive('df-8d66433d-a974-4522-a03d-523ffa8e7270')\"\n",
              "              title=\"Convert this dataframe to an interactive table.\"\n",
              "              style=\"display:none;\">\n",
              "        \n",
              "  <svg xmlns=\"http://www.w3.org/2000/svg\" height=\"24px\"viewBox=\"0 0 24 24\"\n",
              "       width=\"24px\">\n",
              "    <path d=\"M0 0h24v24H0V0z\" fill=\"none\"/>\n",
              "    <path d=\"M18.56 5.44l.94 2.06.94-2.06 2.06-.94-2.06-.94-.94-2.06-.94 2.06-2.06.94zm-11 1L8.5 8.5l.94-2.06 2.06-.94-2.06-.94L8.5 2.5l-.94 2.06-2.06.94zm10 10l.94 2.06.94-2.06 2.06-.94-2.06-.94-.94-2.06-.94 2.06-2.06.94z\"/><path d=\"M17.41 7.96l-1.37-1.37c-.4-.4-.92-.59-1.43-.59-.52 0-1.04.2-1.43.59L10.3 9.45l-7.72 7.72c-.78.78-.78 2.05 0 2.83L4 21.41c.39.39.9.59 1.41.59.51 0 1.02-.2 1.41-.59l7.78-7.78 2.81-2.81c.8-.78.8-2.07 0-2.86zM5.41 20L4 18.59l7.72-7.72 1.47 1.35L5.41 20z\"/>\n",
              "  </svg>\n",
              "      </button>\n",
              "      \n",
              "  <style>\n",
              "    .colab-df-container {\n",
              "      display:flex;\n",
              "      flex-wrap:wrap;\n",
              "      gap: 12px;\n",
              "    }\n",
              "\n",
              "    .colab-df-convert {\n",
              "      background-color: #E8F0FE;\n",
              "      border: none;\n",
              "      border-radius: 50%;\n",
              "      cursor: pointer;\n",
              "      display: none;\n",
              "      fill: #1967D2;\n",
              "      height: 32px;\n",
              "      padding: 0 0 0 0;\n",
              "      width: 32px;\n",
              "    }\n",
              "\n",
              "    .colab-df-convert:hover {\n",
              "      background-color: #E2EBFA;\n",
              "      box-shadow: 0px 1px 2px rgba(60, 64, 67, 0.3), 0px 1px 3px 1px rgba(60, 64, 67, 0.15);\n",
              "      fill: #174EA6;\n",
              "    }\n",
              "\n",
              "    [theme=dark] .colab-df-convert {\n",
              "      background-color: #3B4455;\n",
              "      fill: #D2E3FC;\n",
              "    }\n",
              "\n",
              "    [theme=dark] .colab-df-convert:hover {\n",
              "      background-color: #434B5C;\n",
              "      box-shadow: 0px 1px 3px 1px rgba(0, 0, 0, 0.15);\n",
              "      filter: drop-shadow(0px 1px 2px rgba(0, 0, 0, 0.3));\n",
              "      fill: #FFFFFF;\n",
              "    }\n",
              "  </style>\n",
              "\n",
              "      <script>\n",
              "        const buttonEl =\n",
              "          document.querySelector('#df-8d66433d-a974-4522-a03d-523ffa8e7270 button.colab-df-convert');\n",
              "        buttonEl.style.display =\n",
              "          google.colab.kernel.accessAllowed ? 'block' : 'none';\n",
              "\n",
              "        async function convertToInteractive(key) {\n",
              "          const element = document.querySelector('#df-8d66433d-a974-4522-a03d-523ffa8e7270');\n",
              "          const dataTable =\n",
              "            await google.colab.kernel.invokeFunction('convertToInteractive',\n",
              "                                                     [key], {});\n",
              "          if (!dataTable) return;\n",
              "\n",
              "          const docLinkHtml = 'Like what you see? Visit the ' +\n",
              "            '<a target=\"_blank\" href=https://colab.research.google.com/notebooks/data_table.ipynb>data table notebook</a>'\n",
              "            + ' to learn more about interactive tables.';\n",
              "          element.innerHTML = '';\n",
              "          dataTable['output_type'] = 'display_data';\n",
              "          await google.colab.output.renderOutput(dataTable, element);\n",
              "          const docLink = document.createElement('div');\n",
              "          docLink.innerHTML = docLinkHtml;\n",
              "          element.appendChild(docLink);\n",
              "        }\n",
              "      </script>\n",
              "    </div>\n",
              "  </div>\n",
              "  "
            ]
          },
          "metadata": {},
          "execution_count": 19
        }
      ],
      "source": [
        "# menampilkan data hasil tf-idf data latih\n",
        "X_train_pd = pd.DataFrame(X_train, columns=tf_idf.get_feature_names_out())\n",
        "X_train_pd.head()"
      ]
    },
    {
      "cell_type": "code",
      "execution_count": null,
      "metadata": {
        "colab": {
          "base_uri": "https://localhost:8080/",
          "height": 279
        },
        "id": "3KUOQIf5NvR5",
        "outputId": "7b6cb2a4-d94c-4097-8e4d-9332da08f047"
      },
      "outputs": [
        {
          "output_type": "execute_result",
          "data": {
            "text/plain": [
              "   abbas  abjad  about  abu  abur  acara  acc  aceh  achmadi  acu  ...  your  \\\n",
              "0    0.0    0.0    0.0  0.0   0.0    0.0  0.0   0.0      0.0  0.0  ...   0.0   \n",
              "1    0.0    0.0    0.0  0.0   0.0    0.0  0.0   0.0      0.0  0.0  ...   0.0   \n",
              "2    0.0    0.0    0.0  0.0   0.0    0.0  0.0   0.0      0.0  0.0  ...   0.0   \n",
              "3    0.0    0.0    0.0  0.0   0.0    0.0  0.0   0.0      0.0  0.0  ...   0.0   \n",
              "4    0.0    0.0    0.0  0.0   0.0    0.0  0.0   0.0      0.0  0.0  ...   0.0   \n",
              "\n",
              "   youtube  yoweslah  yudhoyono  yuk  zalik  zalim  zaman  zat   zi  \n",
              "0      0.0       0.0        0.0  0.0    0.0    0.0    0.0  0.0  0.0  \n",
              "1      0.0       0.0        0.0  0.0    0.0    0.0    0.0  0.0  0.0  \n",
              "2      0.0       0.0        0.0  0.0    0.0    0.0    0.0  0.0  0.0  \n",
              "3      0.0       0.0        0.0  0.0    0.0    0.0    0.0  0.0  0.0  \n",
              "4      0.0       0.0        0.0  0.0    0.0    0.0    0.0  0.0  0.0  \n",
              "\n",
              "[5 rows x 1815 columns]"
            ],
            "text/html": [
              "\n",
              "  <div id=\"df-649cada3-8031-4829-8166-c9b52c770d91\">\n",
              "    <div class=\"colab-df-container\">\n",
              "      <div>\n",
              "<style scoped>\n",
              "    .dataframe tbody tr th:only-of-type {\n",
              "        vertical-align: middle;\n",
              "    }\n",
              "\n",
              "    .dataframe tbody tr th {\n",
              "        vertical-align: top;\n",
              "    }\n",
              "\n",
              "    .dataframe thead th {\n",
              "        text-align: right;\n",
              "    }\n",
              "</style>\n",
              "<table border=\"1\" class=\"dataframe\">\n",
              "  <thead>\n",
              "    <tr style=\"text-align: right;\">\n",
              "      <th></th>\n",
              "      <th>abbas</th>\n",
              "      <th>abjad</th>\n",
              "      <th>about</th>\n",
              "      <th>abu</th>\n",
              "      <th>abur</th>\n",
              "      <th>acara</th>\n",
              "      <th>acc</th>\n",
              "      <th>aceh</th>\n",
              "      <th>achmadi</th>\n",
              "      <th>acu</th>\n",
              "      <th>...</th>\n",
              "      <th>your</th>\n",
              "      <th>youtube</th>\n",
              "      <th>yoweslah</th>\n",
              "      <th>yudhoyono</th>\n",
              "      <th>yuk</th>\n",
              "      <th>zalik</th>\n",
              "      <th>zalim</th>\n",
              "      <th>zaman</th>\n",
              "      <th>zat</th>\n",
              "      <th>zi</th>\n",
              "    </tr>\n",
              "  </thead>\n",
              "  <tbody>\n",
              "    <tr>\n",
              "      <th>0</th>\n",
              "      <td>0.0</td>\n",
              "      <td>0.0</td>\n",
              "      <td>0.0</td>\n",
              "      <td>0.0</td>\n",
              "      <td>0.0</td>\n",
              "      <td>0.0</td>\n",
              "      <td>0.0</td>\n",
              "      <td>0.0</td>\n",
              "      <td>0.0</td>\n",
              "      <td>0.0</td>\n",
              "      <td>...</td>\n",
              "      <td>0.0</td>\n",
              "      <td>0.0</td>\n",
              "      <td>0.0</td>\n",
              "      <td>0.0</td>\n",
              "      <td>0.0</td>\n",
              "      <td>0.0</td>\n",
              "      <td>0.0</td>\n",
              "      <td>0.0</td>\n",
              "      <td>0.0</td>\n",
              "      <td>0.0</td>\n",
              "    </tr>\n",
              "    <tr>\n",
              "      <th>1</th>\n",
              "      <td>0.0</td>\n",
              "      <td>0.0</td>\n",
              "      <td>0.0</td>\n",
              "      <td>0.0</td>\n",
              "      <td>0.0</td>\n",
              "      <td>0.0</td>\n",
              "      <td>0.0</td>\n",
              "      <td>0.0</td>\n",
              "      <td>0.0</td>\n",
              "      <td>0.0</td>\n",
              "      <td>...</td>\n",
              "      <td>0.0</td>\n",
              "      <td>0.0</td>\n",
              "      <td>0.0</td>\n",
              "      <td>0.0</td>\n",
              "      <td>0.0</td>\n",
              "      <td>0.0</td>\n",
              "      <td>0.0</td>\n",
              "      <td>0.0</td>\n",
              "      <td>0.0</td>\n",
              "      <td>0.0</td>\n",
              "    </tr>\n",
              "    <tr>\n",
              "      <th>2</th>\n",
              "      <td>0.0</td>\n",
              "      <td>0.0</td>\n",
              "      <td>0.0</td>\n",
              "      <td>0.0</td>\n",
              "      <td>0.0</td>\n",
              "      <td>0.0</td>\n",
              "      <td>0.0</td>\n",
              "      <td>0.0</td>\n",
              "      <td>0.0</td>\n",
              "      <td>0.0</td>\n",
              "      <td>...</td>\n",
              "      <td>0.0</td>\n",
              "      <td>0.0</td>\n",
              "      <td>0.0</td>\n",
              "      <td>0.0</td>\n",
              "      <td>0.0</td>\n",
              "      <td>0.0</td>\n",
              "      <td>0.0</td>\n",
              "      <td>0.0</td>\n",
              "      <td>0.0</td>\n",
              "      <td>0.0</td>\n",
              "    </tr>\n",
              "    <tr>\n",
              "      <th>3</th>\n",
              "      <td>0.0</td>\n",
              "      <td>0.0</td>\n",
              "      <td>0.0</td>\n",
              "      <td>0.0</td>\n",
              "      <td>0.0</td>\n",
              "      <td>0.0</td>\n",
              "      <td>0.0</td>\n",
              "      <td>0.0</td>\n",
              "      <td>0.0</td>\n",
              "      <td>0.0</td>\n",
              "      <td>...</td>\n",
              "      <td>0.0</td>\n",
              "      <td>0.0</td>\n",
              "      <td>0.0</td>\n",
              "      <td>0.0</td>\n",
              "      <td>0.0</td>\n",
              "      <td>0.0</td>\n",
              "      <td>0.0</td>\n",
              "      <td>0.0</td>\n",
              "      <td>0.0</td>\n",
              "      <td>0.0</td>\n",
              "    </tr>\n",
              "    <tr>\n",
              "      <th>4</th>\n",
              "      <td>0.0</td>\n",
              "      <td>0.0</td>\n",
              "      <td>0.0</td>\n",
              "      <td>0.0</td>\n",
              "      <td>0.0</td>\n",
              "      <td>0.0</td>\n",
              "      <td>0.0</td>\n",
              "      <td>0.0</td>\n",
              "      <td>0.0</td>\n",
              "      <td>0.0</td>\n",
              "      <td>...</td>\n",
              "      <td>0.0</td>\n",
              "      <td>0.0</td>\n",
              "      <td>0.0</td>\n",
              "      <td>0.0</td>\n",
              "      <td>0.0</td>\n",
              "      <td>0.0</td>\n",
              "      <td>0.0</td>\n",
              "      <td>0.0</td>\n",
              "      <td>0.0</td>\n",
              "      <td>0.0</td>\n",
              "    </tr>\n",
              "  </tbody>\n",
              "</table>\n",
              "<p>5 rows × 1815 columns</p>\n",
              "</div>\n",
              "      <button class=\"colab-df-convert\" onclick=\"convertToInteractive('df-649cada3-8031-4829-8166-c9b52c770d91')\"\n",
              "              title=\"Convert this dataframe to an interactive table.\"\n",
              "              style=\"display:none;\">\n",
              "        \n",
              "  <svg xmlns=\"http://www.w3.org/2000/svg\" height=\"24px\"viewBox=\"0 0 24 24\"\n",
              "       width=\"24px\">\n",
              "    <path d=\"M0 0h24v24H0V0z\" fill=\"none\"/>\n",
              "    <path d=\"M18.56 5.44l.94 2.06.94-2.06 2.06-.94-2.06-.94-.94-2.06-.94 2.06-2.06.94zm-11 1L8.5 8.5l.94-2.06 2.06-.94-2.06-.94L8.5 2.5l-.94 2.06-2.06.94zm10 10l.94 2.06.94-2.06 2.06-.94-2.06-.94-.94-2.06-.94 2.06-2.06.94z\"/><path d=\"M17.41 7.96l-1.37-1.37c-.4-.4-.92-.59-1.43-.59-.52 0-1.04.2-1.43.59L10.3 9.45l-7.72 7.72c-.78.78-.78 2.05 0 2.83L4 21.41c.39.39.9.59 1.41.59.51 0 1.02-.2 1.41-.59l7.78-7.78 2.81-2.81c.8-.78.8-2.07 0-2.86zM5.41 20L4 18.59l7.72-7.72 1.47 1.35L5.41 20z\"/>\n",
              "  </svg>\n",
              "      </button>\n",
              "      \n",
              "  <style>\n",
              "    .colab-df-container {\n",
              "      display:flex;\n",
              "      flex-wrap:wrap;\n",
              "      gap: 12px;\n",
              "    }\n",
              "\n",
              "    .colab-df-convert {\n",
              "      background-color: #E8F0FE;\n",
              "      border: none;\n",
              "      border-radius: 50%;\n",
              "      cursor: pointer;\n",
              "      display: none;\n",
              "      fill: #1967D2;\n",
              "      height: 32px;\n",
              "      padding: 0 0 0 0;\n",
              "      width: 32px;\n",
              "    }\n",
              "\n",
              "    .colab-df-convert:hover {\n",
              "      background-color: #E2EBFA;\n",
              "      box-shadow: 0px 1px 2px rgba(60, 64, 67, 0.3), 0px 1px 3px 1px rgba(60, 64, 67, 0.15);\n",
              "      fill: #174EA6;\n",
              "    }\n",
              "\n",
              "    [theme=dark] .colab-df-convert {\n",
              "      background-color: #3B4455;\n",
              "      fill: #D2E3FC;\n",
              "    }\n",
              "\n",
              "    [theme=dark] .colab-df-convert:hover {\n",
              "      background-color: #434B5C;\n",
              "      box-shadow: 0px 1px 3px 1px rgba(0, 0, 0, 0.15);\n",
              "      filter: drop-shadow(0px 1px 2px rgba(0, 0, 0, 0.3));\n",
              "      fill: #FFFFFF;\n",
              "    }\n",
              "  </style>\n",
              "\n",
              "      <script>\n",
              "        const buttonEl =\n",
              "          document.querySelector('#df-649cada3-8031-4829-8166-c9b52c770d91 button.colab-df-convert');\n",
              "        buttonEl.style.display =\n",
              "          google.colab.kernel.accessAllowed ? 'block' : 'none';\n",
              "\n",
              "        async function convertToInteractive(key) {\n",
              "          const element = document.querySelector('#df-649cada3-8031-4829-8166-c9b52c770d91');\n",
              "          const dataTable =\n",
              "            await google.colab.kernel.invokeFunction('convertToInteractive',\n",
              "                                                     [key], {});\n",
              "          if (!dataTable) return;\n",
              "\n",
              "          const docLinkHtml = 'Like what you see? Visit the ' +\n",
              "            '<a target=\"_blank\" href=https://colab.research.google.com/notebooks/data_table.ipynb>data table notebook</a>'\n",
              "            + ' to learn more about interactive tables.';\n",
              "          element.innerHTML = '';\n",
              "          dataTable['output_type'] = 'display_data';\n",
              "          await google.colab.output.renderOutput(dataTable, element);\n",
              "          const docLink = document.createElement('div');\n",
              "          docLink.innerHTML = docLinkHtml;\n",
              "          element.appendChild(docLink);\n",
              "        }\n",
              "      </script>\n",
              "    </div>\n",
              "  </div>\n",
              "  "
            ]
          },
          "metadata": {},
          "execution_count": 20
        }
      ],
      "source": [
        "# menampilkan data hasil tf-idf data uji\n",
        "X_test_pd = pd.DataFrame(X_test, columns=tf_idf.get_feature_names_out())\n",
        "X_test_pd.head()"
      ]
    },
    {
      "cell_type": "markdown",
      "metadata": {
        "id": "1DBcXUspxBUH"
      },
      "source": [
        "## 3.6 Over and Under Sampling\n",
        "\n",
        "Menyamakan proporsi data antara sentimen positif dan negatif."
      ]
    },
    {
      "cell_type": "code",
      "execution_count": null,
      "metadata": {
        "colab": {
          "base_uri": "https://localhost:8080/"
        },
        "id": "rrVJIwmD2w2r",
        "outputId": "cf777c4b-f390-498b-8061-e2db91123c29"
      },
      "outputs": [
        {
          "output_type": "execute_result",
          "data": {
            "text/plain": [
              "Counter({-1: 492, 0: 492, 1: 492})"
            ]
          },
          "metadata": {},
          "execution_count": 138
        }
      ],
      "source": [
        "# oversampling\n",
        "oversample = SMOTE()\n",
        "X_train_over, y_train_over = oversample.fit_resample(X_train, y_train)\n",
        "# info label\n",
        "show_info_label(y_train_over)"
      ]
    },
    {
      "cell_type": "code",
      "execution_count": null,
      "metadata": {
        "colab": {
          "base_uri": "https://localhost:8080/"
        },
        "id": "Em_D_sjV3OFU",
        "outputId": "4cc4496d-ca3b-486f-9d5a-e0e738c1c555"
      },
      "outputs": [
        {
          "output_type": "execute_result",
          "data": {
            "text/plain": [
              "Counter({-1: 153, 0: 153, 1: 153})"
            ]
          },
          "metadata": {},
          "execution_count": 139
        }
      ],
      "source": [
        "# undersampling\n",
        "undersample = RandomUnderSampler()\n",
        "X_train_under, y_train_under = undersample.fit_resample(X_train, y_train)\n",
        "# info label\n",
        "show_info_label(y_train_under)"
      ]
    },
    {
      "cell_type": "code",
      "execution_count": null,
      "metadata": {
        "id": "1ZCAb1UJ8VOk"
      },
      "outputs": [],
      "source": [
        "data = {\n",
        "    'original': (X_train, y_train),\n",
        "    'oversampling': (X_train_over, y_train_over),\n",
        "    'undersampling': (X_train_under, y_train_under)\n",
        "    }"
      ]
    },
    {
      "cell_type": "code",
      "execution_count": null,
      "metadata": {
        "colab": {
          "base_uri": "https://localhost:8080/"
        },
        "id": "udx-NPLnFobz",
        "outputId": "f7bcb8d7-8610-4fb1-802c-b1e4abc7dfad"
      },
      "outputs": [
        {
          "output_type": "stream",
          "name": "stdout",
          "text": [
            "original data :  800\n",
            "oversampling data :  1476\n",
            "undersampling data :  459\n"
          ]
        }
      ],
      "source": [
        "print(\"original data : \", len(data['original'][0]))\n",
        "print(\"oversampling data : \", len(data['oversampling'][0]))\n",
        "print(\"undersampling data : \", len(data['undersampling'][0]))"
      ]
    },
    {
      "cell_type": "markdown",
      "metadata": {
        "id": "6OMx3calk5a9"
      },
      "source": [
        "## 3.7 Implementasi SVM dan Evaluasi"
      ]
    },
    {
      "cell_type": "markdown",
      "metadata": {
        "id": "gARcShz4HJ-N"
      },
      "source": [
        "### 3.7.1 Implementasi SVM dengan Kernel RBF"
      ]
    },
    {
      "cell_type": "code",
      "execution_count": null,
      "metadata": {
        "id": "DIL-HORSF4yv"
      },
      "outputs": [],
      "source": [
        "# nilai pada setiap parameter pada kernel rbf yang akan digunakan\n",
        "param = {\n",
        "    'kernel': ['rbf'],\n",
        "    'C': [0.001, 0.01, 0.1, 0.5, 1, 10, 100],\n",
        "    'gamma': ['scale', 0.001, 0.01, 0.1, 1, 10, 100]\n",
        "}"
      ]
    },
    {
      "cell_type": "code",
      "execution_count": null,
      "metadata": {
        "id": "CvltaUvQHACN"
      },
      "outputs": [],
      "source": [
        "from sklearn.model_selection import GridSearchCV\n",
        "\n",
        "# mencari parameter terbaik dengan grisearch\n",
        "grid_search = GridSearchCV(estimator=SVC(random_state=0),\n",
        "                           param_grid=param,\n",
        "                           n_jobs=8,\n",
        "                           verbose=1,\n",
        "                           scoring='accuracy')"
      ]
    },
    {
      "cell_type": "code",
      "execution_count": null,
      "metadata": {
        "id": "T_96bBuCLr8X"
      },
      "outputs": [],
      "source": [
        "# proses pelatihan dan prediksi\n",
        "def training(X_train, y_train, X_test):\n",
        "  grid_search.fit(X_train, y_train)\n",
        "  y_pred = grid_search.predict(X_test)\n",
        "  return grid_search, y_pred\n",
        "\n",
        "# menampilkan akurasi dan parameter yang didapat\n",
        "def report_gs(grid_search):\n",
        "  print(\"Akurasi yang didapat: \", grid_search.best_score_)\n",
        "  # param to pandas\n",
        "  best_param = pd.DataFrame()\n",
        "  best_param['params'] = list(grid_search.best_estimator_.get_params().keys())\n",
        "  best_param['values'] = list(grid_search.best_estimator_.get_params().values())\n",
        "  print(\"\\nKombinasi parameter yang didapat: \", )\n",
        "  print(best_param.to_markdown())\n",
        "\n",
        "# menampilkan hasil dalam bentuk classification report dan confusion matrix\n",
        "def report_result(y_test, y_pred):\n",
        "  return classification_report(y_test, y_pred), confusion_matrix(y_test, y_pred, labels=[-1, 0, 1])"
      ]
    },
    {
      "cell_type": "markdown",
      "metadata": {
        "id": "GZF1dnyuHSBL"
      },
      "source": [
        "### 3.7.2 Evaluasi pada Data Asli"
      ]
    },
    {
      "cell_type": "code",
      "execution_count": null,
      "metadata": {
        "colab": {
          "base_uri": "https://localhost:8080/"
        },
        "id": "bKzOryH-MpCf",
        "outputId": "f1868b39-21c9-41dc-d2b4-b9821043b46f"
      },
      "outputs": [
        {
          "output_type": "stream",
          "name": "stdout",
          "text": [
            "Fitting 5 folds for each of 49 candidates, totalling 245 fits\n"
          ]
        }
      ],
      "source": [
        "# proses pelatihan\n",
        "data_original = training(X_train, y_train, X_test)"
      ]
    },
    {
      "cell_type": "code",
      "execution_count": null,
      "metadata": {
        "colab": {
          "base_uri": "https://localhost:8080/"
        },
        "id": "rwBxDKtRS1r8",
        "outputId": "d399a8d5-8d34-4749-fc18-1c22d9936535"
      },
      "outputs": [
        {
          "output_type": "stream",
          "name": "stdout",
          "text": [
            "Akurasi yang didapat:  0.64625\n",
            "\n",
            "Kombinasi parameter yang didapat: \n",
            "|    | params                  | values   |\n",
            "|---:|:------------------------|:---------|\n",
            "|  0 | C                       | 10       |\n",
            "|  1 | break_ties              | False    |\n",
            "|  2 | cache_size              | 200      |\n",
            "|  3 | class_weight            |          |\n",
            "|  4 | coef0                   | 0.0      |\n",
            "|  5 | decision_function_shape | ovr      |\n",
            "|  6 | degree                  | 3        |\n",
            "|  7 | gamma                   | 1        |\n",
            "|  8 | kernel                  | rbf      |\n",
            "|  9 | max_iter                | -1       |\n",
            "| 10 | probability             | False    |\n",
            "| 11 | random_state            | 0        |\n",
            "| 12 | shrinking               | True     |\n",
            "| 13 | tol                     | 0.001    |\n",
            "| 14 | verbose                 | False    |\n"
          ]
        }
      ],
      "source": [
        "# hasil akurasi dan parameter yang didapat\n",
        "report_gs(data_original[0])"
      ]
    },
    {
      "cell_type": "code",
      "execution_count": null,
      "metadata": {
        "colab": {
          "base_uri": "https://localhost:8080/",
          "height": 538
        },
        "id": "YfSpF3FqTIEX",
        "outputId": "663e7ce6-05e5-41e7-d703-757f8d7e2757"
      },
      "outputs": [
        {
          "output_type": "display_data",
          "data": {
            "text/plain": [
              "<Figure size 432x288 with 2 Axes>"
            ],
            "image/png": "[encoded data removed]"
          },
          "metadata": {
            "needs_background": "light"
          }
        },
        {
          "output_type": "stream",
          "name": "stdout",
          "text": [
            "\n",
            "\n",
            "\n",
            "              precision    recall  f1-score   support\n",
            "\n",
            "          -1       0.73      0.93      0.82       130\n",
            "           0       0.67      0.36      0.47        39\n",
            "           1       0.54      0.23      0.32        31\n",
            "\n",
            "    accuracy                           0.71       200\n",
            "   macro avg       0.64      0.51      0.53       200\n",
            "weighted avg       0.69      0.71      0.67       200\n",
            "\n"
          ]
        }
      ],
      "source": [
        "# hasil keseluruhan\n",
        "classify_report, cm = report_result(y_test, data_original[1])\n",
        "\n",
        "# confusion matrix\n",
        "disp = ConfusionMatrixDisplay(confusion_matrix=cm, display_labels=['negatif', 'Netral', 'Positif'])\n",
        "disp.plot(cmap='GnBu')\n",
        "plt.title('Confusion Matrix Data Asli')\n",
        "plt.xticks(rotation=30, horizontalalignment=\"center\")\n",
        "plt.show()\n",
        "print('\\n\\n')\n",
        "# classification report\n",
        "print(classify_report)"
      ]
    },
    {
      "cell_type": "markdown",
      "metadata": {
        "id": "rG3kINAPibre"
      },
      "source": [
        "### 3.7.3 Evaluasi pada Data Oversampling"
      ]
    },
    {
      "cell_type": "code",
      "execution_count": null,
      "metadata": {
        "colab": {
          "base_uri": "https://localhost:8080/"
        },
        "id": "ZwqEzizNibrf",
        "outputId": "276a372a-294f-4dde-d351-6491c536026f"
      },
      "outputs": [
        {
          "output_type": "stream",
          "name": "stdout",
          "text": [
            "Fitting 5 folds for each of 49 candidates, totalling 245 fits\n"
          ]
        }
      ],
      "source": [
        "# proses pelatihan\n",
        "data_over = training(X_train_over, y_train_over, X_test)"
      ]
    },
    {
      "cell_type": "code",
      "execution_count": null,
      "metadata": {
        "colab": {
          "base_uri": "https://localhost:8080/"
        },
        "id": "0kOrDoliibrf",
        "outputId": "4357505d-275a-45e9-ab17-bcfea8436173"
      },
      "outputs": [
        {
          "output_type": "stream",
          "name": "stdout",
          "text": [
            "Akurasi yang didapat:  0.9066032982134675\n",
            "\n",
            "Kombinasi parameter yang didapat: \n",
            "|    | params                  | values   |\n",
            "|---:|:------------------------|:---------|\n",
            "|  0 | C                       | 10       |\n",
            "|  1 | break_ties              | False    |\n",
            "|  2 | cache_size              | 200      |\n",
            "|  3 | class_weight            |          |\n",
            "|  4 | coef0                   | 0.0      |\n",
            "|  5 | decision_function_shape | ovr      |\n",
            "|  6 | degree                  | 3        |\n",
            "|  7 | gamma                   | scale    |\n",
            "|  8 | kernel                  | rbf      |\n",
            "|  9 | max_iter                | -1       |\n",
            "| 10 | probability             | False    |\n",
            "| 11 | random_state            | 0        |\n",
            "| 12 | shrinking               | True     |\n",
            "| 13 | tol                     | 0.001    |\n",
            "| 14 | verbose                 | False    |\n"
          ]
        }
      ],
      "source": [
        "# hasil akurasi dan parameter yang didapat\n",
        "report_gs(data_over[0])"
      ]
    },
    {
      "cell_type": "code",
      "execution_count": null,
      "metadata": {
        "colab": {
          "base_uri": "https://localhost:8080/"
        },
        "id": "AhyhsOASibrf",
        "outputId": "65f9fb6c-2809-4d86-85e5-c3057b32d75d"
      },
      "outputs": [
        {
          "output_type": "display_data",
          "data": {
            "text/plain": [
              "<Figure size 432x288 with 2 Axes>"
            ],
            "image/png": "[encoded data removed]"
          },
          "metadata": {
            "needs_background": "light"
          }
        },
        {
          "output_type": "stream",
          "name": "stdout",
          "text": [
            "\n",
            "\n",
            "\n",
            "              precision    recall  f1-score   support\n",
            "\n",
            "          -1       0.71      0.92      0.80       130\n",
            "           0       0.68      0.33      0.45        39\n",
            "           1       0.43      0.19      0.27        31\n",
            "\n",
            "    accuracy                           0.69       200\n",
            "   macro avg       0.61      0.48      0.51       200\n",
            "weighted avg       0.66      0.69      0.65       200\n",
            "\n"
          ]
        }
      ],
      "source": [
        "# hasil keseluruhan\n",
        "classify_report, cm = report_result(y_test, data_over[1])\n",
        "\n",
        "# confusion matrix\n",
        "disp = ConfusionMatrixDisplay(confusion_matrix=cm, display_labels=['negatif', 'Netral', 'Positif'])\n",
        "disp.plot(cmap='GnBu')\n",
        "plt.title('Confusion Matrix Data Oversampling')\n",
        "plt.xticks(rotation=30, horizontalalignment=\"center\")\n",
        "plt.show()\n",
        "print('\\n\\n')\n",
        "# classification report\n",
        "print(classify_report)"
      ]
    },
    {
      "cell_type": "markdown",
      "metadata": {
        "id": "3NUS88fai7yF"
      },
      "source": [
        "### 3.7.4 Evaluasi pada Data Undersampling"
      ]
    },
    {
      "cell_type": "code",
      "execution_count": null,
      "metadata": {
        "colab": {
          "base_uri": "https://localhost:8080/"
        },
        "id": "qijHpv-Bi7yK",
        "outputId": "0e2d2df7-244e-4114-af3c-db6684cde517"
      },
      "outputs": [
        {
          "output_type": "stream",
          "name": "stdout",
          "text": [
            "Fitting 5 folds for each of 49 candidates, totalling 245 fits\n"
          ]
        }
      ],
      "source": [
        "# proses pelatihan\n",
        "data_under = training(X_train_under, y_train_under, X_test)"
      ]
    },
    {
      "cell_type": "code",
      "execution_count": null,
      "metadata": {
        "colab": {
          "base_uri": "https://localhost:8080/"
        },
        "id": "W0473O1ti7yK",
        "outputId": "f0f5fb4c-c51b-4a14-903f-53d2f911cfe5"
      },
      "outputs": [
        {
          "output_type": "stream",
          "name": "stdout",
          "text": [
            "Akurasi yang didapat:  0.5620640229335881\n",
            "\n",
            "Kombinasi parameter yang didapat: \n",
            "|    | params                  | values   |\n",
            "|---:|:------------------------|:---------|\n",
            "|  0 | C                       | 1        |\n",
            "|  1 | break_ties              | False    |\n",
            "|  2 | cache_size              | 200      |\n",
            "|  3 | class_weight            |          |\n",
            "|  4 | coef0                   | 0.0      |\n",
            "|  5 | decision_function_shape | ovr      |\n",
            "|  6 | degree                  | 3        |\n",
            "|  7 | gamma                   | scale    |\n",
            "|  8 | kernel                  | rbf      |\n",
            "|  9 | max_iter                | -1       |\n",
            "| 10 | probability             | False    |\n",
            "| 11 | random_state            | 0        |\n",
            "| 12 | shrinking               | True     |\n",
            "| 13 | tol                     | 0.001    |\n",
            "| 14 | verbose                 | False    |\n"
          ]
        }
      ],
      "source": [
        "# hasil akurasi dan parameter yang didapat\n",
        "report_gs(data_under[0])"
      ]
    },
    {
      "cell_type": "code",
      "execution_count": null,
      "metadata": {
        "colab": {
          "base_uri": "https://localhost:8080/"
        },
        "id": "mHX5MLHqi7yK",
        "outputId": "17e10dbc-07f0-4890-8f75-7cc8726ce21a"
      },
      "outputs": [
        {
          "output_type": "display_data",
          "data": {
            "text/plain": [
              "<Figure size 432x288 with 2 Axes>"
            ],
            "image/png": "[encoded data removed]"
          },
          "metadata": {
            "needs_background": "light"
          }
        },
        {
          "output_type": "stream",
          "name": "stdout",
          "text": [
            "\n",
            "\n",
            "\n",
            "              precision    recall  f1-score   support\n",
            "\n",
            "          -1       0.87      0.46      0.60       130\n",
            "           0       0.45      0.82      0.58        39\n",
            "           1       0.30      0.58      0.40        31\n",
            "\n",
            "    accuracy                           0.55       200\n",
            "   macro avg       0.54      0.62      0.53       200\n",
            "weighted avg       0.70      0.55      0.57       200\n",
            "\n"
          ]
        }
      ],
      "source": [
        "# hasil keseluruhan\n",
        "classify_report, cm = report_result(y_test, data_under[1])\n",
        "\n",
        "# confusion matrix\n",
        "disp = ConfusionMatrixDisplay(confusion_matrix=cm, display_labels=['negatif', 'Netral', 'Positif'])\n",
        "disp.plot(cmap='GnBu')\n",
        "plt.title('Confusion Matrix Data Undersampling')\n",
        "plt.xticks(rotation=30, horizontalalignment=\"center\")\n",
        "plt.show()\n",
        "print('\\n\\n')\n",
        "# classification report\n",
        "print(classify_report)"
      ]
    }
  ],
  "metadata": {
    "colab": {
      "collapsed_sections": [
        "zRBQCV29OVwY",
        "eHZ9U-npr60h",
        "uDwhEGiK1XoF",
        "LakD7jst1Iki",
        "1DBcXUspxBUH"
      ],
      "name": "3-pengolahan-data.ipynb",
      "provenance": [],
      "mount_file_id": "1SDDYkFFTtH4LmJ4yzQ-N_zSzoG-JVgw3",
      "authorship_tag": "ABX9TyP38AmhibefJRxWf4e12xaq",
      "include_colab_link": true
    },
    "kernelspec": {
      "display_name": "Python 3",
      "name": "python3"
    },
    "language_info": {
      "name": "python"
    }
  },
  "nbformat": 4,
  "nbformat_minor": 0
}